{
 "cells": [
  {
   "cell_type": "markdown",
   "metadata": {},
   "source": [
    "# Importing Lines"
   ]
  },
  {
   "cell_type": "code",
   "execution_count": 51,
   "metadata": {
    "ExecuteTime": {
     "end_time": "2020-07-15T08:44:51.819836Z",
     "start_time": "2020-07-15T08:44:51.815818Z"
    }
   },
   "outputs": [],
   "source": [
    "import pandas as pd\n",
    "import numpy as np\n",
    "\n",
    "import matplotlib.pyplot as plt\n",
    "from tqdm.notebook import tqdm\n",
    "from glob import glob\n",
    "from collections import Counter\n",
    "\n",
    "from sklearn.model_selection import train_test_split\n",
    "\n",
    "import torch\n",
    "import torch.nn.functional as F\n",
    "from torch import nn, optim\n",
    "from torch.utils.data import TensorDataset, DataLoader"
   ]
  },
  {
   "cell_type": "markdown",
   "metadata": {},
   "source": [
    "# Hyperparams"
   ]
  },
  {
   "cell_type": "code",
   "execution_count": 2,
   "metadata": {
    "ExecuteTime": {
     "end_time": "2020-07-15T04:54:24.367001Z",
     "start_time": "2020-07-15T04:54:24.364009Z"
    }
   },
   "outputs": [],
   "source": [
    "SEED = 43"
   ]
  },
  {
   "cell_type": "markdown",
   "metadata": {},
   "source": [
    "# Read-in Data"
   ]
  },
  {
   "cell_type": "code",
   "execution_count": 3,
   "metadata": {
    "ExecuteTime": {
     "end_time": "2020-07-15T04:54:24.390965Z",
     "start_time": "2020-07-15T04:54:24.367998Z"
    }
   },
   "outputs": [],
   "source": [
    "PATH = '../res/npy_img/left/'\n",
    "files = glob(PATH+'*.npy')"
   ]
  },
  {
   "cell_type": "code",
   "execution_count": 4,
   "metadata": {
    "ExecuteTime": {
     "end_time": "2020-07-15T04:54:24.638829Z",
     "start_time": "2020-07-15T04:54:24.391934Z"
    }
   },
   "outputs": [],
   "source": [
    "sample = torch.tensor(np.load(files[0]))\n",
    "x, y, f = np.load(files[0]).shape"
   ]
  },
  {
   "cell_type": "code",
   "execution_count": 5,
   "metadata": {
    "ExecuteTime": {
     "end_time": "2020-07-15T04:54:24.644814Z",
     "start_time": "2020-07-15T04:54:24.639828Z"
    }
   },
   "outputs": [],
   "source": [
    "def data_loader(files):\n",
    "    out = []\n",
    "    x, y, f = np.load(files[0]).shape\n",
    "    for file in tqdm(files):\n",
    "        file = np.load(file)\n",
    "        out.append(file.transpose(2, 0, 1))\n",
    "    out = np.array(out)\n",
    "    return torch.tensor(out, dtype=torch.float)"
   ]
  },
  {
   "cell_type": "code",
   "execution_count": 6,
   "metadata": {
    "ExecuteTime": {
     "end_time": "2020-07-15T04:54:26.102906Z",
     "start_time": "2020-07-15T04:54:26.085951Z"
    }
   },
   "outputs": [
    {
     "data": {
      "text/plain": [
       "(307, 375, 6)"
      ]
     },
     "execution_count": 6,
     "metadata": {},
     "output_type": "execute_result"
    }
   ],
   "source": [
    "np.load(files[0]).shape"
   ]
  },
  {
   "cell_type": "code",
   "execution_count": 7,
   "metadata": {
    "ExecuteTime": {
     "end_time": "2020-07-15T04:55:10.686739Z",
     "start_time": "2020-07-15T04:54:26.822405Z"
    }
   },
   "outputs": [
    {
     "data": {
      "application/vnd.jupyter.widget-view+json": {
       "model_id": "3a0f44f6a8e84b028b245a464f2fe22c",
       "version_major": 2,
       "version_minor": 0
      },
      "text/plain": [
       "HBox(children=(FloatProgress(value=0.0, max=867.0), HTML(value='')))"
      ]
     },
     "metadata": {},
     "output_type": "display_data"
    },
    {
     "name": "stdout",
     "output_type": "stream",
     "text": [
      "\n"
     ]
    }
   ],
   "source": [
    "X = data_loader(files)"
   ]
  },
  {
   "cell_type": "code",
   "execution_count": 8,
   "metadata": {
    "ExecuteTime": {
     "end_time": "2020-07-15T04:55:23.172488Z",
     "start_time": "2020-07-15T04:55:22.887861Z"
    }
   },
   "outputs": [],
   "source": [
    "label = pd.read_csv('../res/age_balanced.csv', index_col=0)\n",
    "y_multi = torch.tensor(label.multiclass.values)\n",
    "y_binary = torch.tensor(label.binary.values)"
   ]
  },
  {
   "cell_type": "code",
   "execution_count": 9,
   "metadata": {
    "ExecuteTime": {
     "end_time": "2020-07-15T04:55:23.673160Z",
     "start_time": "2020-07-15T04:55:23.173501Z"
    }
   },
   "outputs": [],
   "source": [
    "# Binary\n",
    "X_train, X_test, y_binary_train, y_binary_test = train_test_split(X, y_binary,\n",
    "                                                                  test_size=0.2, random_state=SEED)\n",
    "train_binary_ds = TensorDataset(X_train, y_binary_train)\n",
    "test_binary_ds = TensorDataset(X_test, y_binary_test)\n",
    "train_binary_loader = DataLoader(train_binary_ds, batch_size=64, shuffle=True)\n",
    "test_binary_loader = DataLoader(test_binary_ds, batch_size=64, shuffle=True)\n",
    "\n",
    "sample_multi_ds = TensorDataset(X_train[2:4], y_binary_train[2:4])\n",
    "sample_multi_loader = DataLoader(sample_multi_ds)"
   ]
  },
  {
   "cell_type": "code",
   "execution_count": 10,
   "metadata": {
    "ExecuteTime": {
     "end_time": "2020-07-15T04:55:24.119475Z",
     "start_time": "2020-07-15T04:55:23.674157Z"
    }
   },
   "outputs": [],
   "source": [
    "# Binary\n",
    "X_train, X_test, y_multi_train, y_multi_test = train_test_split(X, y_multi,\n",
    "                                                                test_size=0.2, random_state=SEED)\n",
    "train_multi_ds = TensorDataset(X_train, y_multi_train)\n",
    "test_multi_ds = TensorDataset(X_test, y_multi_test)\n",
    "train_multi_loader = DataLoader(train_multi_ds, batch_size=128, shuffle=True)\n",
    "test_multi_loader = DataLoader(test_multi_ds, batch_size=128, shuffle=True)\n",
    "\n",
    "sample_binary_ds = TensorDataset(X_train[2:4], y_binary_train[2:4])\n",
    "sample_binary_loader = DataLoader(sample_binary_ds)"
   ]
  },
  {
   "cell_type": "markdown",
   "metadata": {},
   "source": [
    "# Functions in Need"
   ]
  },
  {
   "cell_type": "code",
   "execution_count": 11,
   "metadata": {
    "ExecuteTime": {
     "end_time": "2020-07-15T04:55:25.241923Z",
     "start_time": "2020-07-15T04:55:25.237733Z"
    }
   },
   "outputs": [],
   "source": [
    "def count(y_pred, y_true):\n",
    "    y_pred_ = y_pred.argmax(axis=1)\n",
    "    \n",
    "    corr = 0\n",
    "    for p, t in zip(y_pred_, y_true):\n",
    "        if p == t:\n",
    "            corr += 1\n",
    "            \n",
    "    return corr"
   ]
  },
  {
   "cell_type": "markdown",
   "metadata": {},
   "source": [
    "# Model Implementation"
   ]
  },
  {
   "cell_type": "markdown",
   "metadata": {},
   "source": [
    "## Model"
   ]
  },
  {
   "cell_type": "code",
   "execution_count": 53,
   "metadata": {
    "ExecuteTime": {
     "end_time": "2020-07-15T08:45:12.330064Z",
     "start_time": "2020-07-15T08:45:12.319094Z"
    }
   },
   "outputs": [],
   "source": [
    "class ConvNet(nn.Module):\n",
    "    def __init__(self, ctype):\n",
    "        super(ConvNet, self).__init__()\n",
    "        \n",
    "        self.ctype = ctype\n",
    "        if self.ctype=='binary':\n",
    "            out_node = 1\n",
    "            self.last_layer = F.sigmoid\n",
    "        elif self.ctype=='multi':\n",
    "            out_node = 10\n",
    "            self.last_layer = F.softmax\n",
    "        else:\n",
    "            print(\"Put either 'binary' or 'multi'\")\n",
    "        \n",
    "        \n",
    "        self.layer1 = nn.Sequential(\n",
    "            nn.Conv2d(6, 10, kernel_size=5, stride=2),\n",
    "            nn.ReLU(),\n",
    "            nn.BatchNorm2d(10),\n",
    "            nn.Dropout(.2),\n",
    "            nn.MaxPool2d(kernel_size=2, stride=2))\n",
    "        self.layer2 = nn.Sequential(\n",
    "            nn.Conv2d(10, 20, kernel_size=5, stride=2),\n",
    "            nn.ReLU(),\n",
    "            nn.BatchNorm2d(20),\n",
    "            nn.Dropout(.2),\n",
    "            nn.MaxPool2d(kernel_size=2, stride=2))\n",
    "        self.layer3 = nn.Sequential(\n",
    "            nn.Conv2d(20, 40, kernel_size=5, stride=2),\n",
    "            nn.ReLU(),\n",
    "            nn.BatchNorm2d(40),\n",
    "            nn.Dropout(.2),\n",
    "            nn.MaxPool2d(kernel_size=2, stride=2))\n",
    "        \n",
    "        self.fc1 = nn.Linear(480, 100)\n",
    "        self.fc2 = nn.Linear(100, out_node)\n",
    "\n",
    "        \n",
    "    def forward(self, x):\n",
    "        out = self.layer1(x)\n",
    "#         out = self.drop_out(out)\n",
    "        out = self.layer2(out)\n",
    "#         out = self.drop_out(out)\n",
    "        out = self.layer3(out)\n",
    "#         out = self.drop_out(out)\n",
    "        out = out.reshape(out.size(0), -1)\n",
    "        out = self.fc1(out)\n",
    "        out = self.fc2(out)\n",
    "        #out = self.fc3(out)\n",
    "        out = self.last_layer(out)\n",
    "        return out"
   ]
  },
  {
   "cell_type": "markdown",
   "metadata": {},
   "source": [
    "## Functions need in Future"
   ]
  },
  {
   "cell_type": "code",
   "execution_count": 39,
   "metadata": {
    "ExecuteTime": {
     "end_time": "2020-07-15T08:06:17.491372Z",
     "start_time": "2020-07-15T08:06:17.486385Z"
    }
   },
   "outputs": [],
   "source": [
    "def acc_multi(pred, true):\n",
    "    result = 0\n",
    "    cnt = 0\n",
    "    for p, t in zip(pred.argmax(axis=1), true):\n",
    "        cnt += 1\n",
    "        if p == t:\n",
    "            result += 1\n",
    "            \n",
    "    return result, cnt"
   ]
  },
  {
   "cell_type": "code",
   "execution_count": 40,
   "metadata": {
    "ExecuteTime": {
     "end_time": "2020-07-15T08:06:17.629005Z",
     "start_time": "2020-07-15T08:06:17.623020Z"
    }
   },
   "outputs": [],
   "source": [
    "def acc_binary(pred, true):\n",
    "    correct, cnt = 0, 0\n",
    "    tp, tn, fp, fn = 0, 0, 0, 0\n",
    "    for p, t in zip(pred, true):\n",
    "        cnt += 1\n",
    "        if (p >= 0.5) & (t == 1):\n",
    "            correct += 1\n",
    "            tp += 1\n",
    "            \n",
    "        elif (p >= 0.5) & (t == 0):\n",
    "            fp += 1\n",
    "            \n",
    "        elif (p < 0.5) & (t == 1):\n",
    "            tn += 1\n",
    "            \n",
    "        elif (p < 0.5) & (t == 0):\n",
    "            correct += 1\n",
    "            fn += 1\n",
    "        \n",
    "        else:\n",
    "            pass\n",
    "        \n",
    "    return correct, cnt, np.array([tp, tn, fp, fn])"
   ]
  },
  {
   "cell_type": "code",
   "execution_count": 41,
   "metadata": {
    "ExecuteTime": {
     "end_time": "2020-07-15T08:06:17.771650Z",
     "start_time": "2020-07-15T08:06:17.766673Z"
    }
   },
   "outputs": [],
   "source": [
    "def to_binary(data):\n",
    "    result = []\n",
    "    for d in data:\n",
    "        if d >= 0.5:\n",
    "            result.append(1)\n",
    "        elif d < 0.5:\n",
    "            result.append(0)\n",
    "    return result"
   ]
  },
  {
   "cell_type": "markdown",
   "metadata": {},
   "source": [
    "## Debugging"
   ]
  },
  {
   "cell_type": "code",
   "execution_count": 42,
   "metadata": {
    "ExecuteTime": {
     "end_time": "2020-07-15T08:06:18.497374Z",
     "start_time": "2020-07-15T08:06:18.431456Z"
    }
   },
   "outputs": [
    {
     "name": "stdout",
     "output_type": "stream",
     "text": [
      "tensor([[0.5186]], grad_fn=<SigmoidBackward>)\n",
      "tensor([[0.5685]], grad_fn=<SigmoidBackward>)\n"
     ]
    },
    {
     "name": "stderr",
     "output_type": "stream",
     "text": [
      "C:\\Users\\pha\\anaconda3\\lib\\site-packages\\torch\\nn\\functional.py:1569: UserWarning: nn.functional.sigmoid is deprecated. Use torch.sigmoid instead.\n",
      "  warnings.warn(\"nn.functional.sigmoid is deprecated. Use torch.sigmoid instead.\")\n"
     ]
    }
   ],
   "source": [
    "conv = ConvNet(ctype='binary')\n",
    "for x, y in sample_binary_loader:\n",
    "    print(conv(x))"
   ]
  },
  {
   "cell_type": "code",
   "execution_count": 54,
   "metadata": {
    "ExecuteTime": {
     "end_time": "2020-07-15T08:45:20.543013Z",
     "start_time": "2020-07-15T08:45:16.024029Z"
    }
   },
   "outputs": [
    {
     "name": "stderr",
     "output_type": "stream",
     "text": [
      "C:\\Users\\pha\\anaconda3\\lib\\site-packages\\ipykernel_launcher.py:50: UserWarning: Implicit dimension choice for softmax has been deprecated. Change the call to include dim=X as an argument.\n"
     ]
    },
    {
     "name": "stdout",
     "output_type": "stream",
     "text": [
      "tensor([5, 5, 9, 2, 3, 9, 3, 5, 5, 3, 6, 2, 6, 2, 3, 6, 6, 8, 2, 2, 5, 2, 3, 7,\n",
      "        7, 5, 1, 7, 0, 2, 5, 8, 2, 2, 2, 2, 1, 8, 5, 9, 6, 8, 2, 5, 5, 5, 3, 5,\n",
      "        9, 9, 3, 5, 3, 3, 1, 1, 4, 2, 1, 5, 9, 3, 1, 2, 9, 3, 9, 5, 0, 9, 5, 2,\n",
      "        9, 5, 9, 2, 5, 9, 9, 5, 2, 9, 8, 5, 0, 6, 3, 9, 9, 9, 6, 5, 9, 9, 2, 5,\n",
      "        6, 2, 5, 5, 5, 9, 9, 2, 2, 2, 9, 9, 6, 2, 1, 2, 2, 2, 9, 3, 5, 8, 2, 6,\n",
      "        9, 3, 6, 2, 1, 2, 9, 3], grad_fn=<NotImplemented>)\n",
      "tensor([2, 8, 9, 8, 9, 2, 2, 3, 9, 9, 6, 5, 5, 1, 1, 6, 4, 8, 5, 2, 7, 9, 2, 3,\n",
      "        6, 6, 0, 9, 6, 2, 2, 2, 2, 9, 1, 1, 3, 5, 3, 9, 8, 5, 3, 9, 5, 8, 6, 9,\n",
      "        8, 7, 9, 1, 2, 3, 6, 6, 2, 9, 5, 9, 2, 7, 0, 9, 1, 3, 3, 8, 6, 9, 8, 1,\n",
      "        6, 2, 9, 9, 5, 9, 6, 9, 9, 2, 2, 6, 5, 6, 5, 5, 6, 3, 9, 3, 3, 5, 2, 4,\n",
      "        3, 2, 2, 1, 2, 3, 9, 2, 3, 9, 1, 5, 3, 9, 9, 5, 5, 2, 0, 9, 8, 9, 6, 5,\n",
      "        9, 1, 6, 9, 1, 5, 8, 5], grad_fn=<NotImplemented>)\n",
      "tensor([0, 2, 6, 9, 7, 9, 9, 3, 9, 5, 9, 4, 6, 5, 2, 1, 2, 1, 9, 9, 9, 9, 5, 6,\n",
      "        2, 9, 8, 4, 2, 5, 6, 2, 0, 9, 9, 2, 5, 2, 1, 1, 1, 3, 3, 2, 2, 5, 2, 3,\n",
      "        2, 6, 5, 3, 9, 5, 6, 2, 6, 2, 5, 3, 3, 1, 5, 9, 3, 9, 5, 5, 6, 1, 2, 6,\n",
      "        6, 2, 7, 3, 5, 2, 8, 5, 5, 6, 9, 9, 3, 2, 9, 7, 2, 1, 5, 2, 6, 9, 2, 5,\n",
      "        5, 6, 5, 9, 3, 1, 5, 3, 5, 2, 9, 9, 9, 3, 3, 1, 9, 5, 5, 9, 5, 2, 2, 2,\n",
      "        5, 1, 5, 8, 6, 2, 9, 1], grad_fn=<NotImplemented>)\n",
      "tensor([5, 9, 5, 5, 8, 2, 1, 9, 2, 9, 9, 9, 1, 1, 1, 1, 9, 6, 5, 8, 2, 5, 2, 9,\n",
      "        9, 2, 9, 6, 2, 8, 5, 6, 9, 6, 5, 2, 1, 6, 5, 3, 1, 6, 6, 3, 2, 2, 2, 4,\n",
      "        1, 6, 9, 2, 2, 3, 9, 2, 6, 2, 0, 2, 5, 3, 2, 5, 2, 9, 3, 2, 6, 9, 5, 9,\n",
      "        3, 5, 9, 3, 3, 3, 1, 9, 2, 0, 9, 9, 2, 2, 2, 2, 6, 5, 6, 5, 2, 2, 1, 1,\n",
      "        3, 2, 9, 1, 2, 5, 8, 9, 9, 1, 2, 6, 0, 9, 1, 9, 2, 5, 2, 3, 2, 2, 5, 3,\n",
      "        9, 3, 9, 5, 8, 2, 9, 2], grad_fn=<NotImplemented>)\n",
      "tensor([9, 1, 1, 9, 9, 9, 9, 9, 6, 5, 5, 1, 2, 6, 3, 2, 9, 6, 9, 5, 9, 9, 9, 9,\n",
      "        9, 0, 9, 1, 5, 9, 3, 5, 4, 2, 2, 9, 9, 5, 1, 6, 5, 6, 3, 5, 7, 3, 0, 9,\n",
      "        6, 8, 9, 9, 5, 3, 5, 2, 5, 6, 9, 1, 9, 2, 9, 6, 2, 7, 0, 9, 9, 6, 5, 5,\n",
      "        8, 6, 9, 2, 2, 8, 1, 9, 9, 1, 3, 5, 9, 9, 5, 9, 3, 3, 2, 2, 5, 1, 9, 9,\n",
      "        9, 6, 5, 5, 9, 2, 3, 5, 9, 3, 3, 3, 9, 5, 6, 1, 2, 8, 9, 2, 2, 3, 5, 2,\n",
      "        2, 2, 2, 6, 2, 9, 2, 0], grad_fn=<NotImplemented>)\n",
      "tensor([2, 6, 5, 2, 1, 5, 3, 5, 9, 6, 9, 3, 9, 5, 9, 9, 2, 2, 2, 9, 3, 3, 9, 4,\n",
      "        6, 3, 2, 4, 3, 2, 8, 1, 6, 9, 3, 9, 9, 9, 5, 6, 6, 8, 0, 9, 3, 2, 0, 3,\n",
      "        2, 5, 2, 9, 2], grad_fn=<NotImplemented>)\n"
     ]
    }
   ],
   "source": [
    "conv = ConvNet(ctype='multi')\n",
    "for x, y in train_multi_loader:\n",
    "    print(conv(x).argmax(axis=1))"
   ]
  },
  {
   "cell_type": "markdown",
   "metadata": {},
   "source": [
    "## Weighting"
   ]
  },
  {
   "cell_type": "code",
   "execution_count": 44,
   "metadata": {
    "ExecuteTime": {
     "end_time": "2020-07-15T08:06:22.420509Z",
     "start_time": "2020-07-15T08:06:22.401545Z"
    }
   },
   "outputs": [],
   "source": [
    "multi_weight = sorted(Counter(label.multiclass).items(), key=(lambda x: x[0]))\n",
    "multi_weight = 1 / np.array([w[1] for w in multi_weight])"
   ]
  },
  {
   "cell_type": "code",
   "execution_count": 45,
   "metadata": {
    "ExecuteTime": {
     "end_time": "2020-07-15T08:06:22.426492Z",
     "start_time": "2020-07-15T08:06:22.421506Z"
    }
   },
   "outputs": [],
   "source": [
    "binary_weight = sorted(Counter(label.binary).items(), key=(lambda x: x[0]))\n",
    "binary_weight = 1 / np.array([w[1] for w in binary_weight])"
   ]
  },
  {
   "cell_type": "markdown",
   "metadata": {},
   "source": [
    "## Training - Multiclass"
   ]
  },
  {
   "cell_type": "code",
   "execution_count": 55,
   "metadata": {
    "ExecuteTime": {
     "end_time": "2020-07-15T09:18:34.161104Z",
     "start_time": "2020-07-15T08:45:20.544011Z"
    }
   },
   "outputs": [
    {
     "name": "stderr",
     "output_type": "stream",
     "text": [
      "C:\\Users\\pha\\anaconda3\\lib\\site-packages\\ipykernel_launcher.py:50: UserWarning: Implicit dimension choice for softmax has been deprecated. Change the call to include dim=X as an argument.\n"
     ]
    },
    {
     "name": "stdout",
     "output_type": "stream",
     "text": [
      "EPOCH: 0\n",
      "[LOSS] train: 13.847, val: 4.613\n",
      "[ACC%] train: 9.67%, val: 8.05%\n",
      "EPOCH: 1\n",
      "[LOSS] train: 13.908, val: 4.62\n",
      "[ACC%] train: 11.69%, val: 8.05%\n",
      "EPOCH: 2\n",
      "[LOSS] train: 13.835, val: 4.617\n",
      "[ACC%] train: 9.24%, val: 10.34%\n",
      "EPOCH: 3\n",
      "[LOSS] train: 13.86, val: 4.61\n",
      "[ACC%] train: 11.26%, val: 10.34%\n",
      "EPOCH: 4\n",
      "[LOSS] train: 13.861, val: 4.624\n",
      "[ACC%] train: 9.67%, val: 10.34%\n",
      "EPOCH: 5\n",
      "[LOSS] train: 13.829, val: 4.617\n",
      "[ACC%] train: 11.11%, val: 9.77%\n",
      "EPOCH: 6\n",
      "[LOSS] train: 13.825, val: 4.625\n",
      "[ACC%] train: 9.09%, val: 8.62%\n",
      "EPOCH: 7\n",
      "[LOSS] train: 13.799, val: 4.627\n",
      "[ACC%] train: 12.12%, val: 9.2%\n",
      "EPOCH: 8\n",
      "[LOSS] train: 13.79, val: 4.63\n",
      "[ACC%] train: 12.55%, val: 10.92%\n",
      "EPOCH: 9\n",
      "[LOSS] train: 13.789, val: 4.635\n",
      "[ACC%] train: 12.84%, val: 9.77%\n",
      "EPOCH: 10\n",
      "[LOSS] train: 13.81, val: 4.616\n",
      "[ACC%] train: 10.82%, val: 8.62%\n",
      "EPOCH: 11\n",
      "[LOSS] train: 13.766, val: 4.605\n",
      "[ACC%] train: 12.84%, val: 8.62%\n",
      "EPOCH: 12\n",
      "[LOSS] train: 13.779, val: 4.623\n",
      "[ACC%] train: 13.56%, val: 9.2%\n",
      "EPOCH: 13\n",
      "[LOSS] train: 13.784, val: 4.614\n",
      "[ACC%] train: 13.42%, val: 8.05%\n",
      "EPOCH: 14\n",
      "[LOSS] train: 13.747, val: 4.621\n",
      "[ACC%] train: 14.57%, val: 9.2%\n",
      "EPOCH: 15\n",
      "[LOSS] train: 13.76, val: 4.632\n",
      "[ACC%] train: 13.13%, val: 10.34%\n",
      "EPOCH: 16\n",
      "[LOSS] train: 13.758, val: 4.639\n",
      "[ACC%] train: 13.42%, val: 9.77%\n",
      "EPOCH: 17\n",
      "[LOSS] train: 13.634, val: 4.626\n",
      "[ACC%] train: 18.47%, val: 10.92%\n",
      "EPOCH: 18\n",
      "[LOSS] train: 13.7, val: 4.67\n",
      "[ACC%] train: 15.44%, val: 9.77%\n",
      "EPOCH: 19\n",
      "[LOSS] train: 13.647, val: 4.654\n",
      "[ACC%] train: 17.32%, val: 9.77%\n",
      "EPOCH: 20\n",
      "[LOSS] train: 13.702, val: 4.639\n",
      "[ACC%] train: 17.17%, val: 8.62%\n",
      "EPOCH: 21\n",
      "[LOSS] train: 13.617, val: 4.656\n",
      "[ACC%] train: 18.04%, val: 10.34%\n",
      "EPOCH: 22\n",
      "[LOSS] train: 13.594, val: 4.642\n",
      "[ACC%] train: 19.48%, val: 8.05%\n",
      "EPOCH: 23\n",
      "[LOSS] train: 13.536, val: 4.668\n",
      "[ACC%] train: 19.48%, val: 8.62%\n",
      "EPOCH: 24\n",
      "[LOSS] train: 13.557, val: 4.641\n",
      "[ACC%] train: 18.47%, val: 6.32%\n",
      "EPOCH: 25\n",
      "[LOSS] train: 13.486, val: 4.679\n",
      "[ACC%] train: 21.21%, val: 9.2%\n",
      "EPOCH: 26\n",
      "[LOSS] train: 13.42, val: 4.624\n",
      "[ACC%] train: 23.81%, val: 7.47%\n",
      "EPOCH: 27\n",
      "[LOSS] train: 13.321, val: 4.703\n",
      "[ACC%] train: 23.09%, val: 10.34%\n",
      "EPOCH: 28\n",
      "[LOSS] train: 13.397, val: 4.637\n",
      "[ACC%] train: 21.79%, val: 9.77%\n",
      "EPOCH: 29\n",
      "[LOSS] train: 13.39, val: 4.596\n",
      "[ACC%] train: 22.37%, val: 12.64%\n",
      "EPOCH: 30\n",
      "[LOSS] train: 13.218, val: 4.7\n",
      "[ACC%] train: 23.38%, val: 10.92%\n",
      "EPOCH: 31\n",
      "[LOSS] train: 13.186, val: 4.636\n",
      "[ACC%] train: 26.84%, val: 10.34%\n",
      "EPOCH: 32\n",
      "[LOSS] train: 13.226, val: 4.712\n",
      "[ACC%] train: 25.54%, val: 10.34%\n",
      "EPOCH: 33\n",
      "[LOSS] train: 13.238, val: 4.591\n",
      "[ACC%] train: 25.97%, val: 14.94%\n",
      "EPOCH: 34\n",
      "[LOSS] train: 13.117, val: 4.675\n",
      "[ACC%] train: 27.85%, val: 8.05%\n",
      "EPOCH: 35\n",
      "[LOSS] train: 13.038, val: 4.595\n",
      "[ACC%] train: 30.74%, val: 12.64%\n",
      "EPOCH: 36\n",
      "[LOSS] train: 13.046, val: 4.738\n",
      "[ACC%] train: 29.0%, val: 9.77%\n",
      "EPOCH: 37\n",
      "[LOSS] train: 12.993, val: 4.701\n",
      "[ACC%] train: 29.73%, val: 10.92%\n",
      "EPOCH: 38\n",
      "[LOSS] train: 13.003, val: 4.624\n",
      "[ACC%] train: 30.45%, val: 11.49%\n",
      "EPOCH: 39\n",
      "[LOSS] train: 12.928, val: 4.61\n",
      "[ACC%] train: 27.99%, val: 14.37%\n",
      "EPOCH: 40\n",
      "[LOSS] train: 12.808, val: 4.63\n",
      "[ACC%] train: 32.76%, val: 13.22%\n",
      "EPOCH: 41\n",
      "[LOSS] train: 12.82, val: 4.673\n",
      "[ACC%] train: 33.19%, val: 12.64%\n",
      "EPOCH: 42\n",
      "[LOSS] train: 12.688, val: 4.719\n",
      "[ACC%] train: 34.92%, val: 10.34%\n",
      "EPOCH: 43\n",
      "[LOSS] train: 12.702, val: 4.742\n",
      "[ACC%] train: 35.64%, val: 6.9%\n",
      "EPOCH: 44\n",
      "[LOSS] train: 12.766, val: 4.753\n",
      "[ACC%] train: 33.33%, val: 8.05%\n",
      "EPOCH: 45\n",
      "[LOSS] train: 12.715, val: 4.782\n",
      "[ACC%] train: 34.2%, val: 7.47%\n",
      "EPOCH: 46\n",
      "[LOSS] train: 12.667, val: 4.8\n",
      "[ACC%] train: 35.35%, val: 9.2%\n",
      "EPOCH: 47\n",
      "[LOSS] train: 12.754, val: 4.769\n",
      "[ACC%] train: 32.18%, val: 9.2%\n",
      "EPOCH: 48\n",
      "[LOSS] train: 12.663, val: 4.612\n",
      "[ACC%] train: 34.92%, val: 12.64%\n",
      "EPOCH: 49\n",
      "[LOSS] train: 12.674, val: 4.633\n",
      "[ACC%] train: 34.78%, val: 11.49%\n",
      "EPOCH: 50\n",
      "[LOSS] train: 12.761, val: 4.705\n",
      "[ACC%] train: 34.2%, val: 9.77%\n",
      "EPOCH: 51\n",
      "[LOSS] train: 12.514, val: 4.679\n",
      "[ACC%] train: 38.1%, val: 10.34%\n",
      "EPOCH: 52\n",
      "[LOSS] train: 12.628, val: 4.774\n",
      "[ACC%] train: 34.78%, val: 10.34%\n",
      "EPOCH: 53\n",
      "[LOSS] train: 12.494, val: 4.771\n",
      "[ACC%] train: 38.82%, val: 10.92%\n",
      "EPOCH: 54\n",
      "[LOSS] train: 12.669, val: 4.661\n",
      "[ACC%] train: 34.05%, val: 10.92%\n",
      "EPOCH: 55\n",
      "[LOSS] train: 12.654, val: 4.65\n",
      "[ACC%] train: 34.63%, val: 12.07%\n",
      "EPOCH: 56\n",
      "[LOSS] train: 12.603, val: 4.718\n",
      "[ACC%] train: 36.94%, val: 9.2%\n",
      "EPOCH: 57\n",
      "[LOSS] train: 12.505, val: 4.696\n",
      "[ACC%] train: 36.94%, val: 10.34%\n",
      "EPOCH: 58\n",
      "[LOSS] train: 12.352, val: 4.685\n",
      "[ACC%] train: 41.41%, val: 10.34%\n",
      "EPOCH: 59\n",
      "[LOSS] train: 12.385, val: 4.68\n",
      "[ACC%] train: 39.25%, val: 11.49%\n",
      "EPOCH: 60\n",
      "[LOSS] train: 12.405, val: 4.689\n",
      "[ACC%] train: 38.96%, val: 10.34%\n",
      "EPOCH: 61\n",
      "[LOSS] train: 12.459, val: 4.703\n",
      "[ACC%] train: 37.52%, val: 10.34%\n",
      "EPOCH: 62\n",
      "[LOSS] train: 12.498, val: 4.609\n",
      "[ACC%] train: 37.95%, val: 12.07%\n",
      "EPOCH: 63\n",
      "[LOSS] train: 12.361, val: 4.672\n",
      "[ACC%] train: 42.28%, val: 12.64%\n",
      "EPOCH: 64\n",
      "[LOSS] train: 12.244, val: 4.656\n",
      "[ACC%] train: 41.99%, val: 10.34%\n",
      "EPOCH: 65\n",
      "[LOSS] train: 12.24, val: 4.708\n",
      "[ACC%] train: 43.29%, val: 12.07%\n",
      "EPOCH: 66\n",
      "[LOSS] train: 12.02, val: 4.719\n",
      "[ACC%] train: 44.3%, val: 10.34%\n",
      "EPOCH: 67\n",
      "[LOSS] train: 12.122, val: 4.693\n",
      "[ACC%] train: 44.88%, val: 10.34%\n",
      "EPOCH: 68\n",
      "[LOSS] train: 12.066, val: 4.72\n",
      "[ACC%] train: 45.17%, val: 10.34%\n",
      "EPOCH: 69\n",
      "[LOSS] train: 12.018, val: 4.733\n",
      "[ACC%] train: 45.31%, val: 10.34%\n",
      "EPOCH: 70\n",
      "[LOSS] train: 12.009, val: 4.704\n",
      "[ACC%] train: 45.45%, val: 10.34%\n",
      "EPOCH: 71\n",
      "[LOSS] train: 11.896, val: 4.707\n",
      "[ACC%] train: 48.34%, val: 10.34%\n",
      "EPOCH: 72\n",
      "[LOSS] train: 11.902, val: 4.658\n",
      "[ACC%] train: 47.47%, val: 11.49%\n",
      "EPOCH: 73\n",
      "[LOSS] train: 12.037, val: 4.688\n",
      "[ACC%] train: 46.32%, val: 10.92%\n",
      "EPOCH: 74\n",
      "[LOSS] train: 11.974, val: 4.689\n",
      "[ACC%] train: 46.75%, val: 10.34%\n",
      "EPOCH: 75\n",
      "[LOSS] train: 11.939, val: 4.653\n",
      "[ACC%] train: 46.61%, val: 11.49%\n",
      "EPOCH: 76\n",
      "[LOSS] train: 12.126, val: 4.748\n",
      "[ACC%] train: 44.88%, val: 10.34%\n",
      "EPOCH: 77\n",
      "[LOSS] train: 12.026, val: 4.663\n",
      "[ACC%] train: 46.18%, val: 10.34%\n",
      "EPOCH: 78\n",
      "[LOSS] train: 11.929, val: 4.728\n",
      "[ACC%] train: 48.05%, val: 6.32%\n",
      "EPOCH: 79\n",
      "[LOSS] train: 11.901, val: 4.699\n",
      "[ACC%] train: 46.61%, val: 11.49%\n",
      "EPOCH: 80\n",
      "[LOSS] train: 11.93, val: 4.732\n",
      "[ACC%] train: 46.61%, val: 8.05%\n",
      "EPOCH: 81\n",
      "[LOSS] train: 11.855, val: 4.577\n",
      "[ACC%] train: 48.05%, val: 10.34%\n",
      "EPOCH: 82\n",
      "[LOSS] train: 11.739, val: 4.652\n",
      "[ACC%] train: 50.51%, val: 11.49%\n",
      "EPOCH: 83\n",
      "[LOSS] train: 11.78, val: 4.686\n",
      "[ACC%] train: 49.78%, val: 9.77%\n",
      "EPOCH: 84\n",
      "[LOSS] train: 11.752, val: 4.747\n",
      "[ACC%] train: 49.93%, val: 9.2%\n",
      "EPOCH: 85\n",
      "[LOSS] train: 11.686, val: 4.647\n",
      "[ACC%] train: 51.23%, val: 11.49%\n",
      "EPOCH: 86\n",
      "[LOSS] train: 11.604, val: 4.696\n",
      "[ACC%] train: 53.1%, val: 8.05%\n",
      "EPOCH: 87\n",
      "[LOSS] train: 11.811, val: 4.718\n",
      "[ACC%] train: 47.91%, val: 10.34%\n",
      "EPOCH: 88\n",
      "[LOSS] train: 11.673, val: 4.718\n",
      "[ACC%] train: 51.52%, val: 10.34%\n",
      "EPOCH: 89\n",
      "[LOSS] train: 11.955, val: 4.725\n",
      "[ACC%] train: 47.91%, val: 8.05%\n",
      "EPOCH: 90\n",
      "[LOSS] train: 11.805, val: 4.691\n",
      "[ACC%] train: 49.93%, val: 10.92%\n",
      "EPOCH: 91\n",
      "[LOSS] train: 11.741, val: 4.701\n",
      "[ACC%] train: 51.37%, val: 10.34%\n",
      "EPOCH: 92\n",
      "[LOSS] train: 11.452, val: 4.719\n",
      "[ACC%] train: 55.41%, val: 10.34%\n",
      "EPOCH: 93\n",
      "[LOSS] train: 11.657, val: 4.661\n",
      "[ACC%] train: 51.37%, val: 8.62%\n",
      "EPOCH: 94\n",
      "[LOSS] train: 11.665, val: 4.701\n",
      "[ACC%] train: 51.08%, val: 9.2%\n",
      "EPOCH: 95\n",
      "[LOSS] train: 11.605, val: 4.703\n",
      "[ACC%] train: 52.81%, val: 10.34%\n",
      "EPOCH: 96\n",
      "[LOSS] train: 11.77, val: 4.733\n",
      "[ACC%] train: 49.93%, val: 10.34%\n",
      "EPOCH: 97\n",
      "[LOSS] train: 11.662, val: 4.719\n",
      "[ACC%] train: 51.8%, val: 10.34%\n",
      "EPOCH: 98\n",
      "[LOSS] train: 11.475, val: 4.695\n",
      "[ACC%] train: 54.4%, val: 11.49%\n",
      "EPOCH: 99\n",
      "[LOSS] train: 11.46, val: 4.724\n",
      "[ACC%] train: 54.26%, val: 9.2%\n",
      "EPOCH: 100\n",
      "[LOSS] train: 11.609, val: 4.674\n",
      "[ACC%] train: 52.53%, val: 7.47%\n",
      "EPOCH: 101\n",
      "[LOSS] train: 11.659, val: 4.659\n",
      "[ACC%] train: 51.66%, val: 11.49%\n",
      "EPOCH: 102\n",
      "[LOSS] train: 11.53, val: 4.675\n",
      "[ACC%] train: 53.68%, val: 9.2%\n",
      "EPOCH: 103\n",
      "[LOSS] train: 11.672, val: 4.625\n",
      "[ACC%] train: 50.22%, val: 12.64%\n",
      "EPOCH: 104\n",
      "[LOSS] train: 11.621, val: 4.698\n",
      "[ACC%] train: 51.95%, val: 10.92%\n",
      "EPOCH: 105\n",
      "[LOSS] train: 11.8, val: 4.714\n",
      "[ACC%] train: 50.36%, val: 8.05%\n",
      "EPOCH: 106\n",
      "[LOSS] train: 11.528, val: 4.673\n",
      "[ACC%] train: 54.69%, val: 9.77%\n",
      "EPOCH: 107\n",
      "[LOSS] train: 11.542, val: 4.678\n",
      "[ACC%] train: 54.83%, val: 9.77%\n"
     ]
    },
    {
     "name": "stdout",
     "output_type": "stream",
     "text": [
      "EPOCH: 108\n",
      "[LOSS] train: 11.415, val: 4.696\n",
      "[ACC%] train: 55.84%, val: 10.92%\n",
      "EPOCH: 109\n",
      "[LOSS] train: 11.393, val: 4.719\n",
      "[ACC%] train: 55.99%, val: 10.34%\n",
      "EPOCH: 110\n",
      "[LOSS] train: 11.499, val: 4.761\n",
      "[ACC%] train: 53.97%, val: 8.05%\n",
      "EPOCH: 111\n",
      "[LOSS] train: 11.392, val: 4.691\n",
      "[ACC%] train: 55.84%, val: 9.77%\n",
      "EPOCH: 112\n",
      "[LOSS] train: 11.467, val: 4.645\n",
      "[ACC%] train: 55.12%, val: 9.2%\n",
      "EPOCH: 113\n",
      "[LOSS] train: 11.394, val: 4.703\n",
      "[ACC%] train: 57.58%, val: 11.49%\n",
      "EPOCH: 114\n",
      "[LOSS] train: 11.318, val: 4.669\n",
      "[ACC%] train: 57.14%, val: 10.34%\n",
      "EPOCH: 115\n",
      "[LOSS] train: 11.391, val: 4.657\n",
      "[ACC%] train: 55.84%, val: 12.07%\n",
      "EPOCH: 116\n",
      "[LOSS] train: 11.32, val: 4.657\n",
      "[ACC%] train: 57.43%, val: 10.34%\n",
      "EPOCH: 117\n",
      "[LOSS] train: 11.39, val: 4.681\n",
      "[ACC%] train: 58.01%, val: 10.34%\n",
      "EPOCH: 118\n",
      "[LOSS] train: 11.174, val: 4.656\n",
      "[ACC%] train: 60.32%, val: 11.49%\n",
      "EPOCH: 119\n",
      "[LOSS] train: 11.319, val: 4.696\n",
      "[ACC%] train: 57.29%, val: 10.92%\n",
      "EPOCH: 120\n",
      "[LOSS] train: 11.148, val: 4.706\n",
      "[ACC%] train: 60.75%, val: 10.34%\n",
      "EPOCH: 121\n",
      "[LOSS] train: 11.187, val: 4.688\n",
      "[ACC%] train: 60.61%, val: 10.34%\n",
      "EPOCH: 122\n",
      "[LOSS] train: 11.182, val: 4.732\n",
      "[ACC%] train: 61.9%, val: 9.77%\n",
      "EPOCH: 123\n",
      "[LOSS] train: 11.174, val: 4.681\n",
      "[ACC%] train: 60.75%, val: 9.77%\n",
      "EPOCH: 124\n",
      "[LOSS] train: 11.122, val: 4.733\n",
      "[ACC%] train: 61.47%, val: 10.34%\n",
      "EPOCH: 125\n",
      "[LOSS] train: 11.112, val: 4.729\n",
      "[ACC%] train: 60.46%, val: 8.05%\n",
      "EPOCH: 126\n",
      "[LOSS] train: 11.253, val: 4.706\n",
      "[ACC%] train: 59.31%, val: 9.77%\n",
      "EPOCH: 127\n",
      "[LOSS] train: 11.255, val: 4.719\n",
      "[ACC%] train: 57.86%, val: 10.34%\n",
      "EPOCH: 128\n",
      "[LOSS] train: 11.251, val: 4.718\n",
      "[ACC%] train: 58.01%, val: 10.34%\n",
      "EPOCH: 129\n",
      "[LOSS] train: 11.189, val: 4.727\n",
      "[ACC%] train: 60.61%, val: 8.62%\n",
      "EPOCH: 130\n",
      "[LOSS] train: 11.024, val: 4.685\n",
      "[ACC%] train: 64.36%, val: 10.92%\n",
      "EPOCH: 131\n",
      "[LOSS] train: 11.163, val: 4.693\n",
      "[ACC%] train: 59.45%, val: 9.2%\n",
      "EPOCH: 132\n",
      "[LOSS] train: 11.197, val: 4.691\n",
      "[ACC%] train: 59.74%, val: 10.34%\n",
      "EPOCH: 133\n",
      "[LOSS] train: 11.072, val: 4.718\n",
      "[ACC%] train: 61.9%, val: 10.34%\n",
      "EPOCH: 134\n",
      "[LOSS] train: 10.861, val: 4.709\n",
      "[ACC%] train: 64.07%, val: 9.77%\n",
      "EPOCH: 135\n",
      "[LOSS] train: 11.097, val: 4.7\n",
      "[ACC%] train: 61.04%, val: 8.05%\n",
      "EPOCH: 136\n",
      "[LOSS] train: 10.938, val: 4.736\n",
      "[ACC%] train: 65.95%, val: 9.77%\n",
      "EPOCH: 137\n",
      "[LOSS] train: 11.068, val: 4.67\n",
      "[ACC%] train: 63.2%, val: 8.05%\n",
      "EPOCH: 138\n",
      "[LOSS] train: 10.931, val: 4.631\n",
      "[ACC%] train: 64.65%, val: 11.49%\n",
      "EPOCH: 139\n",
      "[LOSS] train: 10.952, val: 4.639\n",
      "[ACC%] train: 64.79%, val: 14.37%\n",
      "EPOCH: 140\n",
      "[LOSS] train: 10.913, val: 4.732\n",
      "[ACC%] train: 64.5%, val: 10.34%\n",
      "EPOCH: 141\n",
      "[LOSS] train: 10.868, val: 4.717\n",
      "[ACC%] train: 64.79%, val: 9.77%\n",
      "EPOCH: 142\n",
      "[LOSS] train: 10.898, val: 4.666\n",
      "[ACC%] train: 63.64%, val: 10.92%\n",
      "EPOCH: 143\n",
      "[LOSS] train: 10.805, val: 4.708\n",
      "[ACC%] train: 67.1%, val: 9.77%\n",
      "EPOCH: 144\n",
      "[LOSS] train: 10.87, val: 4.733\n",
      "[ACC%] train: 63.92%, val: 10.34%\n",
      "EPOCH: 145\n",
      "[LOSS] train: 10.834, val: 4.692\n",
      "[ACC%] train: 65.08%, val: 9.77%\n",
      "EPOCH: 146\n",
      "[LOSS] train: 10.869, val: 4.744\n",
      "[ACC%] train: 66.81%, val: 10.92%\n",
      "EPOCH: 147\n",
      "[LOSS] train: 10.755, val: 4.703\n",
      "[ACC%] train: 67.1%, val: 9.2%\n",
      "EPOCH: 148\n",
      "[LOSS] train: 10.752, val: 4.659\n",
      "[ACC%] train: 67.1%, val: 10.92%\n",
      "EPOCH: 149\n",
      "[LOSS] train: 10.739, val: 4.702\n",
      "[ACC%] train: 66.81%, val: 9.77%\n",
      "EPOCH: 150\n",
      "[LOSS] train: 10.778, val: 4.708\n",
      "[ACC%] train: 66.38%, val: 8.05%\n",
      "EPOCH: 151\n",
      "[LOSS] train: 10.735, val: 4.784\n",
      "[ACC%] train: 67.24%, val: 6.9%\n",
      "EPOCH: 152\n",
      "[LOSS] train: 10.989, val: 4.728\n",
      "[ACC%] train: 62.63%, val: 9.2%\n",
      "EPOCH: 153\n",
      "[LOSS] train: 10.763, val: 4.682\n",
      "[ACC%] train: 66.67%, val: 10.34%\n",
      "EPOCH: 154\n",
      "[LOSS] train: 10.678, val: 4.761\n",
      "[ACC%] train: 67.97%, val: 9.77%\n",
      "EPOCH: 155\n",
      "[LOSS] train: 10.821, val: 4.728\n",
      "[ACC%] train: 65.51%, val: 8.05%\n",
      "EPOCH: 156\n",
      "[LOSS] train: 10.799, val: 4.765\n",
      "[ACC%] train: 65.37%, val: 7.47%\n",
      "EPOCH: 157\n",
      "[LOSS] train: 10.881, val: 4.746\n",
      "[ACC%] train: 66.81%, val: 7.47%\n",
      "EPOCH: 158\n",
      "[LOSS] train: 10.789, val: 4.675\n",
      "[ACC%] train: 66.52%, val: 9.77%\n",
      "EPOCH: 159\n",
      "[LOSS] train: 10.844, val: 4.685\n",
      "[ACC%] train: 64.5%, val: 10.34%\n",
      "EPOCH: 160\n",
      "[LOSS] train: 10.641, val: 4.678\n",
      "[ACC%] train: 67.39%, val: 9.2%\n",
      "EPOCH: 161\n",
      "[LOSS] train: 10.593, val: 4.744\n",
      "[ACC%] train: 71.72%, val: 10.34%\n",
      "EPOCH: 162\n",
      "[LOSS] train: 10.673, val: 4.724\n",
      "[ACC%] train: 70.71%, val: 10.34%\n",
      "EPOCH: 163\n",
      "[LOSS] train: 10.713, val: 4.737\n",
      "[ACC%] train: 67.1%, val: 9.77%\n",
      "EPOCH: 164\n",
      "[LOSS] train: 10.669, val: 4.718\n",
      "[ACC%] train: 69.7%, val: 8.62%\n",
      "EPOCH: 165\n",
      "[LOSS] train: 10.7, val: 4.719\n",
      "[ACC%] train: 67.97%, val: 8.62%\n",
      "EPOCH: 166\n",
      "[LOSS] train: 10.502, val: 4.694\n",
      "[ACC%] train: 72.15%, val: 9.2%\n",
      "EPOCH: 167\n",
      "[LOSS] train: 10.547, val: 4.691\n",
      "[ACC%] train: 69.7%, val: 9.2%\n",
      "EPOCH: 168\n",
      "[LOSS] train: 10.526, val: 4.682\n",
      "[ACC%] train: 70.42%, val: 9.2%\n",
      "EPOCH: 169\n",
      "[LOSS] train: 10.601, val: 4.765\n",
      "[ACC%] train: 69.7%, val: 9.2%\n",
      "EPOCH: 170\n",
      "[LOSS] train: 10.639, val: 4.712\n",
      "[ACC%] train: 70.42%, val: 9.2%\n",
      "EPOCH: 171\n",
      "[LOSS] train: 10.557, val: 4.675\n",
      "[ACC%] train: 69.55%, val: 10.92%\n",
      "EPOCH: 172\n",
      "[LOSS] train: 10.653, val: 4.745\n",
      "[ACC%] train: 68.83%, val: 9.77%\n",
      "EPOCH: 173\n",
      "[LOSS] train: 10.565, val: 4.685\n",
      "[ACC%] train: 69.84%, val: 12.07%\n",
      "EPOCH: 174\n",
      "[LOSS] train: 10.522, val: 4.703\n",
      "[ACC%] train: 70.56%, val: 10.92%\n",
      "EPOCH: 175\n",
      "[LOSS] train: 10.612, val: 4.689\n",
      "[ACC%] train: 69.26%, val: 9.2%\n",
      "EPOCH: 176\n",
      "[LOSS] train: 10.403, val: 4.685\n",
      "[ACC%] train: 72.01%, val: 9.77%\n",
      "EPOCH: 177\n",
      "[LOSS] train: 10.616, val: 4.702\n",
      "[ACC%] train: 69.41%, val: 8.62%\n",
      "EPOCH: 178\n",
      "[LOSS] train: 10.567, val: 4.728\n",
      "[ACC%] train: 69.7%, val: 12.07%\n",
      "EPOCH: 179\n",
      "[LOSS] train: 10.555, val: 4.73\n",
      "[ACC%] train: 71.43%, val: 9.77%\n",
      "EPOCH: 180\n",
      "[LOSS] train: 10.604, val: 4.73\n",
      "[ACC%] train: 67.82%, val: 7.47%\n",
      "EPOCH: 181\n",
      "[LOSS] train: 10.427, val: 4.705\n",
      "[ACC%] train: 72.87%, val: 9.2%\n",
      "EPOCH: 182\n",
      "[LOSS] train: 10.477, val: 4.733\n",
      "[ACC%] train: 71.43%, val: 10.34%\n",
      "EPOCH: 183\n",
      "[LOSS] train: 10.535, val: 4.722\n",
      "[ACC%] train: 70.56%, val: 9.2%\n",
      "EPOCH: 184\n",
      "[LOSS] train: 10.294, val: 4.697\n",
      "[ACC%] train: 73.74%, val: 10.34%\n",
      "EPOCH: 185\n",
      "[LOSS] train: 10.285, val: 4.713\n",
      "[ACC%] train: 74.17%, val: 12.07%\n",
      "EPOCH: 186\n",
      "[LOSS] train: 10.347, val: 4.748\n",
      "[ACC%] train: 74.17%, val: 6.32%\n",
      "EPOCH: 187\n",
      "[LOSS] train: 10.316, val: 4.669\n",
      "[ACC%] train: 74.89%, val: 9.77%\n",
      "EPOCH: 188\n",
      "[LOSS] train: 10.36, val: 4.7\n",
      "[ACC%] train: 73.16%, val: 9.77%\n",
      "EPOCH: 189\n",
      "[LOSS] train: 10.348, val: 4.649\n",
      "[ACC%] train: 74.03%, val: 9.2%\n",
      "EPOCH: 190\n",
      "[LOSS] train: 10.43, val: 4.691\n",
      "[ACC%] train: 71.28%, val: 9.2%\n",
      "EPOCH: 191\n",
      "[LOSS] train: 10.387, val: 4.7\n",
      "[ACC%] train: 72.87%, val: 9.2%\n",
      "EPOCH: 192\n",
      "[LOSS] train: 10.262, val: 4.754\n",
      "[ACC%] train: 75.04%, val: 9.77%\n",
      "EPOCH: 193\n",
      "[LOSS] train: 10.283, val: 4.737\n",
      "[ACC%] train: 73.45%, val: 8.62%\n",
      "EPOCH: 194\n",
      "[LOSS] train: 10.321, val: 4.715\n",
      "[ACC%] train: 74.89%, val: 9.2%\n",
      "EPOCH: 195\n",
      "[LOSS] train: 10.281, val: 4.698\n",
      "[ACC%] train: 73.88%, val: 10.92%\n",
      "EPOCH: 196\n",
      "[LOSS] train: 10.239, val: 4.728\n",
      "[ACC%] train: 74.46%, val: 10.92%\n",
      "EPOCH: 197\n",
      "[LOSS] train: 10.362, val: 4.601\n",
      "[ACC%] train: 73.74%, val: 12.07%\n",
      "EPOCH: 198\n",
      "[LOSS] train: 10.208, val: 4.639\n",
      "[ACC%] train: 74.89%, val: 10.34%\n",
      "EPOCH: 199\n",
      "[LOSS] train: 10.125, val: 4.704\n",
      "[ACC%] train: 76.33%, val: 10.34%\n"
     ]
    }
   ],
   "source": [
    "train_losses, val_losses = [], []\n",
    "train_accs, val_accs = [], []\n",
    "\n",
    "conv = ConvNet(ctype='multi')\n",
    "\n",
    "EPOCHS = range(200)\n",
    "loss_fn = nn.CrossEntropyLoss(weight=torch.FloatTensor(multi_weight))\n",
    "optimizer = optim.Adam(conv.parameters(), lr=.001)\n",
    "\n",
    "for epoch in EPOCHS:\n",
    "    \n",
    "    train_batch_loss, train_batch_acc, train_cnt = 0, 0, 0\n",
    "    conv.train()\n",
    "    for x, y in train_multi_loader:\n",
    "        \n",
    "        optimizer.zero_grad()\n",
    "        y_pred = conv(x)\n",
    "        \n",
    "        loss = loss_fn(y_pred, y)\n",
    "        loss.backward()\n",
    "        optimizer.step()\n",
    "        \n",
    "        #print(\"Prediction: {}\".format(conv(x).argmax(axis=1)))\n",
    "        #print(\"True Value: {}\".format(y))\n",
    "        tmp_acc, tmp_t = acc_multi(y_pred, y)\n",
    "        train_batch_acc += tmp_acc\n",
    "        train_cnt += tmp_t\n",
    "        \n",
    "        train_batch_loss += loss.item()\n",
    "    \n",
    "    train_losses.append(train_batch_loss)\n",
    "    train_accs.append(train_batch_acc)\n",
    "    \n",
    "    val_batch_loss, val_batch_acc, val_cnt = 0, 0, 0\n",
    "    conv.eval()\n",
    "    for x, y in test_multi_loader:\n",
    "        y_pred = conv(x)\n",
    "        loss = loss_fn(y_pred, y)\n",
    "        \n",
    "        tmp_acc, tmp_t = acc_multi(y_pred, y)\n",
    "        val_batch_acc += tmp_acc\n",
    "        val_cnt += tmp_t\n",
    "        \n",
    "        val_batch_loss += loss.item()\n",
    "        #print(\"Prediction: {}\".format(y_pred.argmax(axis=1)))\n",
    "        #print(\"Prediction: {}\".format(y_pred[:3]))\n",
    "        \n",
    "    val_losses.append(val_batch_loss)\n",
    "    val_accs.append(val_batch_acc)\n",
    "    \n",
    "    print(\"EPOCH: {}\".format(epoch))\n",
    "    print(\"[LOSS] train: {}, val: {}\".format(round(train_batch_loss,3), round(val_batch_loss, 3)))\n",
    "    print(\"[ACC%] train: {}%, val: {}%\"\n",
    "          .format(round(train_batch_acc/train_cnt * 100, 2), round(val_batch_acc/val_cnt * 100, 2)))\n",
    "    #print(\"Prediction: {}\".format(conv(xx).argmax(axis=1)))\n",
    "    #print(\"True Value: {}\".format(yy))"
   ]
  },
  {
   "cell_type": "code",
   "execution_count": 56,
   "metadata": {
    "ExecuteTime": {
     "end_time": "2020-07-15T10:56:16.792374Z",
     "start_time": "2020-07-15T10:56:16.664701Z"
    }
   },
   "outputs": [
    {
     "data": {
      "text/plain": [
       "[]"
      ]
     },
     "execution_count": 56,
     "metadata": {},
     "output_type": "execute_result"
    },
    {
     "data": {
      "image/png": "[encoded data removed]",
      "text/plain": [
       "<Figure size 432x288 with 1 Axes>"
      ]
     },
     "metadata": {
      "needs_background": "light"
     },
     "output_type": "display_data"
    }
   ],
   "source": [
    "plt.title(\"Losses / epoch\")\n",
    "plt.plot(train_losses, label='Training Losses')\n",
    "plt.plot(val_losses, label='Validation Losses')\n",
    "plt.legend()\n",
    "plt.plot()"
   ]
  },
  {
   "cell_type": "code",
   "execution_count": 57,
   "metadata": {
    "ExecuteTime": {
     "end_time": "2020-07-15T10:56:17.025751Z",
     "start_time": "2020-07-15T10:56:16.888118Z"
    }
   },
   "outputs": [
    {
     "data": {
      "text/plain": [
       "[]"
      ]
     },
     "execution_count": 57,
     "metadata": {},
     "output_type": "execute_result"
    },
    {
     "data": {
      "image/png": "[encoded data removed]",
      "text/plain": [
       "<Figure size 432x288 with 1 Axes>"
      ]
     },
     "metadata": {
      "needs_background": "light"
     },
     "output_type": "display_data"
    }
   ],
   "source": [
    "plt.title(\"Accuracy / epoch\")\n",
    "plt.plot(np.array(train_accs)/train_cnt, label='Training Accuracy')\n",
    "plt.plot(np.array(val_accs)/val_cnt, label='Validation Accuracy')\n",
    "plt.legend()\n",
    "plt.plot()"
   ]
  },
  {
   "cell_type": "code",
   "execution_count": 55,
   "metadata": {
    "ExecuteTime": {
     "end_time": "2020-07-11T03:41:52.506532Z",
     "start_time": "2020-07-11T03:41:52.331979Z"
    }
   },
   "outputs": [
    {
     "name": "stderr",
     "output_type": "stream",
     "text": [
      "C:\\Users\\pha\\anaconda3\\lib\\site-packages\\ipykernel_launcher.py:41: UserWarning: Implicit dimension choice for softmax has been deprecated. Change the call to include dim=X as an argument.\n"
     ]
    },
    {
     "data": {
      "text/plain": [
       "tensor([2, 6, 1, 6, 7, 5, 0, 2, 6, 5, 2, 0, 8, 7, 8, 7, 6, 3, 8, 8, 3, 7, 5, 8,\n",
       "        4, 6, 2, 8, 3, 3, 3, 1, 8, 3, 1, 1, 2, 1, 4, 3, 1, 6, 2, 9, 0, 1],\n",
       "       grad_fn=<NotImplemented>)"
      ]
     },
     "execution_count": 55,
     "metadata": {},
     "output_type": "execute_result"
    }
   ],
   "source": [
    "conv(x).argmax(axis=1)"
   ]
  },
  {
   "cell_type": "code",
   "execution_count": 1,
   "metadata": {
    "ExecuteTime": {
     "end_time": "2020-07-08T06:16:53.297065Z",
     "start_time": "2020-07-08T06:16:53.162321Z"
    }
   },
   "outputs": [
    {
     "ename": "NameError",
     "evalue": "name 'ConvNet' is not defined",
     "output_type": "error",
     "traceback": [
      "\u001b[1;31m---------------------------------------------------------------------------\u001b[0m",
      "\u001b[1;31mNameError\u001b[0m                                 Traceback (most recent call last)",
      "\u001b[1;32m<ipython-input-1-b90400406e19>\u001b[0m in \u001b[0;36m<module>\u001b[1;34m\u001b[0m\n\u001b[0;32m      2\u001b[0m \u001b[0mtrain_accs\u001b[0m\u001b[1;33m,\u001b[0m \u001b[0mval_accs\u001b[0m \u001b[1;33m=\u001b[0m \u001b[1;33m[\u001b[0m\u001b[1;33m]\u001b[0m\u001b[1;33m,\u001b[0m \u001b[1;33m[\u001b[0m\u001b[1;33m]\u001b[0m\u001b[1;33m\u001b[0m\u001b[1;33m\u001b[0m\u001b[0m\n\u001b[0;32m      3\u001b[0m \u001b[1;33m\u001b[0m\u001b[0m\n\u001b[1;32m----> 4\u001b[1;33m \u001b[0mconv\u001b[0m \u001b[1;33m=\u001b[0m \u001b[0mConvNet\u001b[0m\u001b[1;33m(\u001b[0m\u001b[0mctype\u001b[0m\u001b[1;33m=\u001b[0m\u001b[1;34m'binary'\u001b[0m\u001b[1;33m)\u001b[0m\u001b[1;33m\u001b[0m\u001b[1;33m\u001b[0m\u001b[0m\n\u001b[0m\u001b[0;32m      5\u001b[0m \u001b[1;33m\u001b[0m\u001b[0m\n\u001b[0;32m      6\u001b[0m \u001b[0mEPOCHS\u001b[0m \u001b[1;33m=\u001b[0m \u001b[0mrange\u001b[0m\u001b[1;33m(\u001b[0m\u001b[1;36m100\u001b[0m\u001b[1;33m)\u001b[0m\u001b[1;33m\u001b[0m\u001b[1;33m\u001b[0m\u001b[0m\n",
      "\u001b[1;31mNameError\u001b[0m: name 'ConvNet' is not defined"
     ]
    }
   ],
   "source": [
    "train_losses, val_losses = [], []\n",
    "train_accs, val_accs = [], []\n",
    "\n",
    "conv = ConvNet(ctype='binary')\n",
    "\n",
    "EPOCHS = range(100)\n",
    "loss_fn = nn.BCELoss()\n",
    "optimizer = optim.Adam(conv.parameters(), lr=.001)\n",
    "\n",
    "for epoch in EPOCHS:\n",
    "    \n",
    "    train_batch_loss, train_batch_acc, train_cnt = 0, 0, 0\n",
    "    conv.train()\n",
    "    for x, y in train_binary_loader:\n",
    "        \n",
    "        optimizer.zero_grad()\n",
    "        y_pred = conv(x)\n",
    "        \n",
    "        loss = loss_fn(y_pred, y)\n",
    "        loss.backward()\n",
    "        optimizer.step()\n",
    "        \n",
    "        #print(\"Prediction: {}\".format(conv(x).argmax(axis=1)))\n",
    "        #print(\"True Value: {}\".format(y))\n",
    "        tmp_acc, tmp_t, tmp_cf = acc_binary(y_pred, y)\n",
    "        train_batch_acc += tmp_acc\n",
    "        train_cnt += tmp_t\n",
    "        \n",
    "        train_batch_loss += loss.item()\n",
    "    \n",
    "    train_losses.append(train_batch_loss)\n",
    "    train_accs.append(train_batch_acc)\n",
    "    \n",
    "    val_batch_loss, val_batch_acc, val_cnt = 0, 0, 0\n",
    "    conv.eval()\n",
    "    for x, y in test_binary_loader:\n",
    "        y_pred = conv(x)\n",
    "        loss = loss_fn(y_pred, y)\n",
    "        \n",
    "        tmp_acc, tmp_t, tmp_cf = acc_binary(y_pred, y)\n",
    "        val_batch_acc += tmp_acc\n",
    "        val_cnt += tmp_t\n",
    "        \n",
    "        val_batch_loss += loss.item()\n",
    "        \n",
    "    val_losses.append(val_batch_loss)\n",
    "    val_accs.append(val_batch_acc)\n",
    "    \n",
    "    print(\"EPOCH: {}\".format(epoch))\n",
    "    print(\"[LOSS] train: {}, val: {}\".format(round(train_batch_loss,3), round(val_batch_loss, 3)))\n",
    "    print(\"[ACC%] train: {}%, val: {}%\"\n",
    "          .format(round(train_batch_acc/train_cnt * 100, 2), round(val_batch_acc/val_cnt * 100, 2)))\n",
    "    #print(\"Prediction: {}\".format(conv(xx).argmax(axis=1)))\n",
    "    #print(\"True Value: {}\".format(yy))"
   ]
  },
  {
   "cell_type": "code",
   "execution_count": 72,
   "metadata": {
    "ExecuteTime": {
     "end_time": "2020-07-07T05:51:56.321973Z",
     "start_time": "2020-07-07T05:51:56.315216Z"
    }
   },
   "outputs": [
    {
     "data": {
      "text/plain": [
       "tensor(0.1976)"
      ]
     },
     "execution_count": 72,
     "metadata": {},
     "output_type": "execute_result"
    }
   ],
   "source": [
    "pred = torch.tensor([0.1, 0.2, 0.3, 0.9], dtype=torch.float)\n",
    "true = torch.tensor([0, 0, 0, 1], dtype=torch.float)\n",
    "loss_fn(pred, true)"
   ]
  }
 ],
 "metadata": {
  "kernelspec": {
   "display_name": "Python 3",
   "language": "python",
   "name": "python3"
  },
  "language_info": {
   "codemirror_mode": {
    "name": "ipython",
    "version": 3
   },
   "file_extension": ".py",
   "mimetype": "text/x-python",
   "name": "python",
   "nbconvert_exporter": "python",
   "pygments_lexer": "ipython3",
   "version": "3.7.6"
  },
  "toc": {
   "base_numbering": 1,
   "nav_menu": {},
   "number_sections": true,
   "sideBar": true,
   "skip_h1_title": false,
   "title_cell": "Table of Contents",
   "title_sidebar": "Contents",
   "toc_cell": false,
   "toc_position": {},
   "toc_section_display": true,
   "toc_window_display": false
  }
 },
 "nbformat": 4,
 "nbformat_minor": 4
}
