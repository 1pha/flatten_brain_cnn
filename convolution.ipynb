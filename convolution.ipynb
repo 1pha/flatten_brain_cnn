{
 "cells": [
  {
   "cell_type": "markdown",
   "metadata": {},
   "source": [
    "# Importing Lines"
   ]
  },
  {
   "cell_type": "code",
   "execution_count": 51,
   "metadata": {
    "ExecuteTime": {
     "end_time": "2020-07-15T08:44:51.819836Z",
     "start_time": "2020-07-15T08:44:51.815818Z"
    }
   },
   "outputs": [],
   "source": [
    "import pandas as pd\n",
    "import numpy as np\n",
    "\n",
    "import matplotlib.pyplot as plt\n",
    "from tqdm.notebook import tqdm\n",
    "from glob import glob\n",
    "from collections import Counter\n",
    "\n",
    "from sklearn.model_selection import train_test_split\n",
    "\n",
    "import torch\n",
    "import torch.nn.functional as F\n",
    "from torch import nn, optim\n",
    "from torch.utils.data import TensorDataset, DataLoader"
   ]
  },
  {
   "cell_type": "markdown",
   "metadata": {},
   "source": [
    "# Hyperparams"
   ]
  },
  {
   "cell_type": "code",
   "execution_count": 2,
   "metadata": {
    "ExecuteTime": {
     "end_time": "2020-07-15T04:54:24.367001Z",
     "start_time": "2020-07-15T04:54:24.364009Z"
    }
   },
   "outputs": [],
   "source": [
    "SEED = 43"
   ]
  },
  {
   "cell_type": "markdown",
   "metadata": {},
   "source": [
    "# Read-in Data"
   ]
  },
  {
   "cell_type": "code",
   "execution_count": 3,
   "metadata": {
    "ExecuteTime": {
     "end_time": "2020-07-15T04:54:24.390965Z",
     "start_time": "2020-07-15T04:54:24.367998Z"
    }
   },
   "outputs": [],
   "source": [
    "PATH = '../res/npy_img/left/'\n",
    "files = glob(PATH+'*.npy')"
   ]
  },
  {
   "cell_type": "code",
   "execution_count": 4,
   "metadata": {
    "ExecuteTime": {
     "end_time": "2020-07-15T04:54:24.638829Z",
     "start_time": "2020-07-15T04:54:24.391934Z"
    }
   },
   "outputs": [],
   "source": [
    "sample = torch.tensor(np.load(files[0]))\n",
    "x, y, f = np.load(files[0]).shape"
   ]
  },
  {
   "cell_type": "code",
   "execution_count": 5,
   "metadata": {
    "ExecuteTime": {
     "end_time": "2020-07-15T04:54:24.644814Z",
     "start_time": "2020-07-15T04:54:24.639828Z"
    }
   },
   "outputs": [],
   "source": [
    "def data_loader(files):\n",
    "    out = []\n",
    "    x, y, f = np.load(files[0]).shape\n",
    "    for file in tqdm(files):\n",
    "        file = np.load(file)\n",
    "        out.append(file.transpose(2, 0, 1))\n",
    "    out = np.array(out)\n",
    "    return torch.tensor(out, dtype=torch.float)"
   ]
  },
  {
   "cell_type": "code",
   "execution_count": 6,
   "metadata": {
    "ExecuteTime": {
     "end_time": "2020-07-15T04:54:26.102906Z",
     "start_time": "2020-07-15T04:54:26.085951Z"
    }
   },
   "outputs": [
    {
     "data": {
      "text/plain": [
       "(307, 375, 6)"
      ]
     },
     "execution_count": 6,
     "metadata": {},
     "output_type": "execute_result"
    }
   ],
   "source": [
    "np.load(files[0]).shape"
   ]
  },
  {
   "cell_type": "code",
   "execution_count": 7,
   "metadata": {
    "ExecuteTime": {
     "end_time": "2020-07-15T04:55:10.686739Z",
     "start_time": "2020-07-15T04:54:26.822405Z"
    }
   },
   "outputs": [
    {
     "data": {
      "application/vnd.jupyter.widget-view+json": {
       "model_id": "3a0f44f6a8e84b028b245a464f2fe22c",
       "version_major": 2,
       "version_minor": 0
      },
      "text/plain": [
       "HBox(children=(FloatProgress(value=0.0, max=867.0), HTML(value='')))"
      ]
     },
     "metadata": {},
     "output_type": "display_data"
    },
    {
     "name": "stdout",
     "output_type": "stream",
     "text": [
      "\n"
     ]
    }
   ],
   "source": [
    "X = data_loader(files)"
   ]
  },
  {
   "cell_type": "code",
   "execution_count": 8,
   "metadata": {
    "ExecuteTime": {
     "end_time": "2020-07-15T04:55:23.172488Z",
     "start_time": "2020-07-15T04:55:22.887861Z"
    }
   },
   "outputs": [],
   "source": [
    "label = pd.read_csv('../res/age_balanced.csv', index_col=0)\n",
    "y_multi = torch.tensor(label.multiclass.values)\n",
    "y_binary = torch.tensor(label.binary.values)"
   ]
  },
  {
   "cell_type": "code",
   "execution_count": 9,
   "metadata": {
    "ExecuteTime": {
     "end_time": "2020-07-15T04:55:23.673160Z",
     "start_time": "2020-07-15T04:55:23.173501Z"
    }
   },
   "outputs": [],
   "source": [
    "# Binary\n",
    "X_train, X_test, y_binary_train, y_binary_test = train_test_split(X, y_binary,\n",
    "                                                                  test_size=0.2, random_state=SEED)\n",
    "train_binary_ds = TensorDataset(X_train, y_binary_train)\n",
    "test_binary_ds = TensorDataset(X_test, y_binary_test)\n",
    "train_binary_loader = DataLoader(train_binary_ds, batch_size=64, shuffle=True)\n",
    "test_binary_loader = DataLoader(test_binary_ds, batch_size=64, shuffle=True)\n",
    "\n",
    "sample_multi_ds = TensorDataset(X_train[2:4], y_binary_train[2:4])\n",
    "sample_multi_loader = DataLoader(sample_multi_ds)"
   ]
  },
  {
   "cell_type": "code",
   "execution_count": 10,
   "metadata": {
    "ExecuteTime": {
     "end_time": "2020-07-15T04:55:24.119475Z",
     "start_time": "2020-07-15T04:55:23.674157Z"
    }
   },
   "outputs": [],
   "source": [
    "# Binary\n",
    "X_train, X_test, y_multi_train, y_multi_test = train_test_split(X, y_multi,\n",
    "                                                                test_size=0.2, random_state=SEED)\n",
    "train_multi_ds = TensorDataset(X_train, y_multi_train)\n",
    "test_multi_ds = TensorDataset(X_test, y_multi_test)\n",
    "train_multi_loader = DataLoader(train_multi_ds, batch_size=128, shuffle=True)\n",
    "test_multi_loader = DataLoader(test_multi_ds, batch_size=128, shuffle=True)\n",
    "\n",
    "sample_binary_ds = TensorDataset(X_train[2:4], y_binary_train[2:4])\n",
    "sample_binary_loader = DataLoader(sample_binary_ds)"
   ]
  },
  {
   "cell_type": "markdown",
   "metadata": {},
   "source": [
    "# Functions in Need"
   ]
  },
  {
   "cell_type": "code",
   "execution_count": 11,
   "metadata": {
    "ExecuteTime": {
     "end_time": "2020-07-15T04:55:25.241923Z",
     "start_time": "2020-07-15T04:55:25.237733Z"
    }
   },
   "outputs": [],
   "source": [
    "def count(y_pred, y_true):\n",
    "    y_pred_ = y_pred.argmax(axis=1)\n",
    "    \n",
    "    corr = 0\n",
    "    for p, t in zip(y_pred_, y_true):\n",
    "        if p == t:\n",
    "            corr += 1\n",
    "            \n",
    "    return corr"
   ]
  },
  {
   "cell_type": "markdown",
   "metadata": {},
   "source": [
    "# Model Implementation"
   ]
  },
  {
   "cell_type": "markdown",
   "metadata": {},
   "source": [
    "## Model"
   ]
  },
  {
   "cell_type": "code",
   "execution_count": 53,
   "metadata": {
    "ExecuteTime": {
     "end_time": "2020-07-15T08:45:12.330064Z",
     "start_time": "2020-07-15T08:45:12.319094Z"
    }
   },
   "outputs": [],
   "source": [
    "class ConvNet(nn.Module):\n",
    "    def __init__(self, ctype):\n",
    "        super(ConvNet, self).__init__()\n",
    "        \n",
    "        self.ctype = ctype\n",
    "        if self.ctype=='binary':\n",
    "            out_node = 1\n",
    "            self.last_layer = F.sigmoid\n",
    "        elif self.ctype=='multi':\n",
    "            out_node = 10\n",
    "            self.last_layer = F.softmax\n",
    "        else:\n",
    "            print(\"Put either 'binary' or 'multi'\")\n",
    "        \n",
    "        \n",
    "        self.layer1 = nn.Sequential(\n",
    "            nn.Conv2d(6, 10, kernel_size=5, stride=2),\n",
    "            nn.ReLU(),\n",
    "            nn.BatchNorm2d(10),\n",
    "            nn.Dropout(.2),\n",
    "            nn.MaxPool2d(kernel_size=2, stride=2))\n",
    "        self.layer2 = nn.Sequential(\n",
    "            nn.Conv2d(10, 20, kernel_size=5, stride=2),\n",
    "            nn.ReLU(),\n",
    "            nn.BatchNorm2d(20),\n",
    "            nn.Dropout(.2),\n",
    "            nn.MaxPool2d(kernel_size=2, stride=2))\n",
    "        self.layer3 = nn.Sequential(\n",
    "            nn.Conv2d(20, 40, kernel_size=5, stride=2),\n",
    "            nn.ReLU(),\n",
    "            nn.BatchNorm2d(40),\n",
    "            nn.Dropout(.2),\n",
    "            nn.MaxPool2d(kernel_size=2, stride=2))\n",
    "        \n",
    "        self.fc1 = nn.Linear(480, 100)\n",
    "        self.fc2 = nn.Linear(100, out_node)\n",
    "\n",
    "        \n",
    "    def forward(self, x):\n",
    "        out = self.layer1(x)\n",
    "#         out = self.drop_out(out)\n",
    "        out = self.layer2(out)\n",
    "#         out = self.drop_out(out)\n",
    "        out = self.layer3(out)\n",
    "#         out = self.drop_out(out)\n",
    "        out = out.reshape(out.size(0), -1)\n",
    "        out = self.fc1(out)\n",
    "        out = self.fc2(out)\n",
    "        #out = self.fc3(out)\n",
    "        out = self.last_layer(out)\n",
    "        return out"
   ]
  },
  {
   "cell_type": "markdown",
   "metadata": {},
   "source": [
    "## Functions need in Future"
   ]
  },
  {
   "cell_type": "code",
   "execution_count": 39,
   "metadata": {
    "ExecuteTime": {
     "end_time": "2020-07-15T08:06:17.491372Z",
     "start_time": "2020-07-15T08:06:17.486385Z"
    }
   },
   "outputs": [],
   "source": [
    "def acc_multi(pred, true):\n",
    "    result = 0\n",
    "    cnt = 0\n",
    "    for p, t in zip(pred.argmax(axis=1), true):\n",
    "        cnt += 1\n",
    "        if p == t:\n",
    "            result += 1\n",
    "            \n",
    "    return result, cnt"
   ]
  },
  {
   "cell_type": "code",
   "execution_count": 40,
   "metadata": {
    "ExecuteTime": {
     "end_time": "2020-07-15T08:06:17.629005Z",
     "start_time": "2020-07-15T08:06:17.623020Z"
    }
   },
   "outputs": [],
   "source": [
    "def acc_binary(pred, true):\n",
    "    correct, cnt = 0, 0\n",
    "    tp, tn, fp, fn = 0, 0, 0, 0\n",
    "    for p, t in zip(pred, true):\n",
    "        cnt += 1\n",
    "        if (p >= 0.5) & (t == 1):\n",
    "            correct += 1\n",
    "            tp += 1\n",
    "            \n",
    "        elif (p >= 0.5) & (t == 0):\n",
    "            fp += 1\n",
    "            \n",
    "        elif (p < 0.5) & (t == 1):\n",
    "            tn += 1\n",
    "            \n",
    "        elif (p < 0.5) & (t == 0):\n",
    "            correct += 1\n",
    "            fn += 1\n",
    "        \n",
    "        else:\n",
    "            pass\n",
    "        \n",
    "    return correct, cnt, np.array([tp, tn, fp, fn])"
   ]
  },
  {
   "cell_type": "code",
   "execution_count": 41,
   "metadata": {
    "ExecuteTime": {
     "end_time": "2020-07-15T08:06:17.771650Z",
     "start_time": "2020-07-15T08:06:17.766673Z"
    }
   },
   "outputs": [],
   "source": [
    "def to_binary(data):\n",
    "    result = []\n",
    "    for d in data:\n",
    "        if d >= 0.5:\n",
    "            result.append(1)\n",
    "        elif d < 0.5:\n",
    "            result.append(0)\n",
    "    return result"
   ]
  },
  {
   "cell_type": "markdown",
   "metadata": {},
   "source": [
    "## Debugging"
   ]
  },
  {
   "cell_type": "code",
   "execution_count": 42,
   "metadata": {
    "ExecuteTime": {
     "end_time": "2020-07-15T08:06:18.497374Z",
     "start_time": "2020-07-15T08:06:18.431456Z"
    }
   },
   "outputs": [
    {
     "name": "stdout",
     "output_type": "stream",
     "text": [
      "tensor([[0.5186]], grad_fn=<SigmoidBackward>)\n",
      "tensor([[0.5685]], grad_fn=<SigmoidBackward>)\n"
     ]
    },
    {
     "name": "stderr",
     "output_type": "stream",
     "text": [
      "C:\\Users\\pha\\anaconda3\\lib\\site-packages\\torch\\nn\\functional.py:1569: UserWarning: nn.functional.sigmoid is deprecated. Use torch.sigmoid instead.\n",
      "  warnings.warn(\"nn.functional.sigmoid is deprecated. Use torch.sigmoid instead.\")\n"
     ]
    }
   ],
   "source": [
    "conv = ConvNet(ctype='binary')\n",
    "for x, y in sample_binary_loader:\n",
    "    print(conv(x))"
   ]
  },
  {
   "cell_type": "code",
   "execution_count": 54,
   "metadata": {
    "ExecuteTime": {
     "end_time": "2020-07-15T08:45:20.543013Z",
     "start_time": "2020-07-15T08:45:16.024029Z"
    }
   },
   "outputs": [
    {
     "name": "stderr",
     "output_type": "stream",
     "text": [
      "C:\\Users\\pha\\anaconda3\\lib\\site-packages\\ipykernel_launcher.py:50: UserWarning: Implicit dimension choice for softmax has been deprecated. Change the call to include dim=X as an argument.\n"
     ]
    },
    {
     "name": "stdout",
     "output_type": "stream",
     "text": [
      "tensor([5, 5, 9, 2, 3, 9, 3, 5, 5, 3, 6, 2, 6, 2, 3, 6, 6, 8, 2, 2, 5, 2, 3, 7,\n",
      "        7, 5, 1, 7, 0, 2, 5, 8, 2, 2, 2, 2, 1, 8, 5, 9, 6, 8, 2, 5, 5, 5, 3, 5,\n",
      "        9, 9, 3, 5, 3, 3, 1, 1, 4, 2, 1, 5, 9, 3, 1, 2, 9, 3, 9, 5, 0, 9, 5, 2,\n",
      "        9, 5, 9, 2, 5, 9, 9, 5, 2, 9, 8, 5, 0, 6, 3, 9, 9, 9, 6, 5, 9, 9, 2, 5,\n",
      "        6, 2, 5, 5, 5, 9, 9, 2, 2, 2, 9, 9, 6, 2, 1, 2, 2, 2, 9, 3, 5, 8, 2, 6,\n",
      "        9, 3, 6, 2, 1, 2, 9, 3], grad_fn=<NotImplemented>)\n",
      "tensor([2, 8, 9, 8, 9, 2, 2, 3, 9, 9, 6, 5, 5, 1, 1, 6, 4, 8, 5, 2, 7, 9, 2, 3,\n",
      "        6, 6, 0, 9, 6, 2, 2, 2, 2, 9, 1, 1, 3, 5, 3, 9, 8, 5, 3, 9, 5, 8, 6, 9,\n",
      "        8, 7, 9, 1, 2, 3, 6, 6, 2, 9, 5, 9, 2, 7, 0, 9, 1, 3, 3, 8, 6, 9, 8, 1,\n",
      "        6, 2, 9, 9, 5, 9, 6, 9, 9, 2, 2, 6, 5, 6, 5, 5, 6, 3, 9, 3, 3, 5, 2, 4,\n",
      "        3, 2, 2, 1, 2, 3, 9, 2, 3, 9, 1, 5, 3, 9, 9, 5, 5, 2, 0, 9, 8, 9, 6, 5,\n",
      "        9, 1, 6, 9, 1, 5, 8, 5], grad_fn=<NotImplemented>)\n",
      "tensor([0, 2, 6, 9, 7, 9, 9, 3, 9, 5, 9, 4, 6, 5, 2, 1, 2, 1, 9, 9, 9, 9, 5, 6,\n",
      "        2, 9, 8, 4, 2, 5, 6, 2, 0, 9, 9, 2, 5, 2, 1, 1, 1, 3, 3, 2, 2, 5, 2, 3,\n",
      "        2, 6, 5, 3, 9, 5, 6, 2, 6, 2, 5, 3, 3, 1, 5, 9, 3, 9, 5, 5, 6, 1, 2, 6,\n",
      "        6, 2, 7, 3, 5, 2, 8, 5, 5, 6, 9, 9, 3, 2, 9, 7, 2, 1, 5, 2, 6, 9, 2, 5,\n",
      "        5, 6, 5, 9, 3, 1, 5, 3, 5, 2, 9, 9, 9, 3, 3, 1, 9, 5, 5, 9, 5, 2, 2, 2,\n",
      "        5, 1, 5, 8, 6, 2, 9, 1], grad_fn=<NotImplemented>)\n",
      "tensor([5, 9, 5, 5, 8, 2, 1, 9, 2, 9, 9, 9, 1, 1, 1, 1, 9, 6, 5, 8, 2, 5, 2, 9,\n",
      "        9, 2, 9, 6, 2, 8, 5, 6, 9, 6, 5, 2, 1, 6, 5, 3, 1, 6, 6, 3, 2, 2, 2, 4,\n",
      "        1, 6, 9, 2, 2, 3, 9, 2, 6, 2, 0, 2, 5, 3, 2, 5, 2, 9, 3, 2, 6, 9, 5, 9,\n",
      "        3, 5, 9, 3, 3, 3, 1, 9, 2, 0, 9, 9, 2, 2, 2, 2, 6, 5, 6, 5, 2, 2, 1, 1,\n",
      "        3, 2, 9, 1, 2, 5, 8, 9, 9, 1, 2, 6, 0, 9, 1, 9, 2, 5, 2, 3, 2, 2, 5, 3,\n",
      "        9, 3, 9, 5, 8, 2, 9, 2], grad_fn=<NotImplemented>)\n",
      "tensor([9, 1, 1, 9, 9, 9, 9, 9, 6, 5, 5, 1, 2, 6, 3, 2, 9, 6, 9, 5, 9, 9, 9, 9,\n",
      "        9, 0, 9, 1, 5, 9, 3, 5, 4, 2, 2, 9, 9, 5, 1, 6, 5, 6, 3, 5, 7, 3, 0, 9,\n",
      "        6, 8, 9, 9, 5, 3, 5, 2, 5, 6, 9, 1, 9, 2, 9, 6, 2, 7, 0, 9, 9, 6, 5, 5,\n",
      "        8, 6, 9, 2, 2, 8, 1, 9, 9, 1, 3, 5, 9, 9, 5, 9, 3, 3, 2, 2, 5, 1, 9, 9,\n",
      "        9, 6, 5, 5, 9, 2, 3, 5, 9, 3, 3, 3, 9, 5, 6, 1, 2, 8, 9, 2, 2, 3, 5, 2,\n",
      "        2, 2, 2, 6, 2, 9, 2, 0], grad_fn=<NotImplemented>)\n",
      "tensor([2, 6, 5, 2, 1, 5, 3, 5, 9, 6, 9, 3, 9, 5, 9, 9, 2, 2, 2, 9, 3, 3, 9, 4,\n",
      "        6, 3, 2, 4, 3, 2, 8, 1, 6, 9, 3, 9, 9, 9, 5, 6, 6, 8, 0, 9, 3, 2, 0, 3,\n",
      "        2, 5, 2, 9, 2], grad_fn=<NotImplemented>)\n"
     ]
    }
   ],
   "source": [
    "conv = ConvNet(ctype='multi')\n",
    "for x, y in train_multi_loader:\n",
    "    print(conv(x).argmax(axis=1))"
   ]
  },
  {
   "cell_type": "markdown",
   "metadata": {},
   "source": [
    "## Weighting"
   ]
  },
  {
   "cell_type": "code",
   "execution_count": 44,
   "metadata": {
    "ExecuteTime": {
     "end_time": "2020-07-15T08:06:22.420509Z",
     "start_time": "2020-07-15T08:06:22.401545Z"
    }
   },
   "outputs": [],
   "source": [
    "multi_weight = sorted(Counter(label.multiclass).items(), key=(lambda x: x[0]))\n",
    "multi_weight = 1 / np.array([w[1] for w in multi_weight])"
   ]
  },
  {
   "cell_type": "code",
   "execution_count": 45,
   "metadata": {
    "ExecuteTime": {
     "end_time": "2020-07-15T08:06:22.426492Z",
     "start_time": "2020-07-15T08:06:22.421506Z"
    }
   },
   "outputs": [],
   "source": [
    "binary_weight = sorted(Counter(label.binary).items(), key=(lambda x: x[0]))\n",
    "binary_weight = 1 / np.array([w[1] for w in binary_weight])"
   ]
  },
  {
   "cell_type": "markdown",
   "metadata": {},
   "source": [
    "## Training - Multiclass"
   ]
  },
  {
   "cell_type": "code",
   "execution_count": null,
   "metadata": {
    "ExecuteTime": {
     "start_time": "2020-07-15T08:45:19.631Z"
    }
   },
   "outputs": [
    {
     "name": "stderr",
     "output_type": "stream",
     "text": [
      "C:\\Users\\pha\\anaconda3\\lib\\site-packages\\ipykernel_launcher.py:50: UserWarning: Implicit dimension choice for softmax has been deprecated. Change the call to include dim=X as an argument.\n"
     ]
    },
    {
     "name": "stdout",
     "output_type": "stream",
     "text": [
      "EPOCH: 0\n",
      "[LOSS] train: 13.847, val: 4.613\n",
      "[ACC%] train: 9.67%, val: 8.05%\n",
      "EPOCH: 1\n",
      "[LOSS] train: 13.908, val: 4.62\n",
      "[ACC%] train: 11.69%, val: 8.05%\n"
     ]
    }
   ],
   "source": [
    "train_losses, val_losses = [], []\n",
    "train_accs, val_accs = [], []\n",
    "\n",
    "conv = ConvNet(ctype='multi')\n",
    "\n",
    "EPOCHS = range(200)\n",
    "loss_fn = nn.CrossEntropyLoss(weight=torch.FloatTensor(multi_weight))\n",
    "optimizer = optim.Adam(conv.parameters(), lr=.001)\n",
    "\n",
    "for epoch in EPOCHS:\n",
    "    \n",
    "    train_batch_loss, train_batch_acc, train_cnt = 0, 0, 0\n",
    "    conv.train()\n",
    "    for x, y in train_multi_loader:\n",
    "        \n",
    "        optimizer.zero_grad()\n",
    "        y_pred = conv(x)\n",
    "        \n",
    "        loss = loss_fn(y_pred, y)\n",
    "        loss.backward()\n",
    "        optimizer.step()\n",
    "        \n",
    "        #print(\"Prediction: {}\".format(conv(x).argmax(axis=1)))\n",
    "        #print(\"True Value: {}\".format(y))\n",
    "        tmp_acc, tmp_t = acc_multi(y_pred, y)\n",
    "        train_batch_acc += tmp_acc\n",
    "        train_cnt += tmp_t\n",
    "        \n",
    "        train_batch_loss += loss.item()\n",
    "    \n",
    "    train_losses.append(train_batch_loss)\n",
    "    train_accs.append(train_batch_acc)\n",
    "    \n",
    "    val_batch_loss, val_batch_acc, val_cnt = 0, 0, 0\n",
    "    conv.eval()\n",
    "    for x, y in test_multi_loader:\n",
    "        y_pred = conv(x)\n",
    "        loss = loss_fn(y_pred, y)\n",
    "        \n",
    "        tmp_acc, tmp_t = acc_multi(y_pred, y)\n",
    "        val_batch_acc += tmp_acc\n",
    "        val_cnt += tmp_t\n",
    "        \n",
    "        val_batch_loss += loss.item()\n",
    "        #print(\"Prediction: {}\".format(y_pred.argmax(axis=1)))\n",
    "        #print(\"Prediction: {}\".format(y_pred[:3]))\n",
    "        \n",
    "    val_losses.append(val_batch_loss)\n",
    "    val_accs.append(val_batch_acc)\n",
    "    \n",
    "    print(\"EPOCH: {}\".format(epoch))\n",
    "    print(\"[LOSS] train: {}, val: {}\".format(round(train_batch_loss,3), round(val_batch_loss, 3)))\n",
    "    print(\"[ACC%] train: {}%, val: {}%\"\n",
    "          .format(round(train_batch_acc/train_cnt * 100, 2), round(val_batch_acc/val_cnt * 100, 2)))\n",
    "    #print(\"Prediction: {}\".format(conv(xx).argmax(axis=1)))\n",
    "    #print(\"True Value: {}\".format(yy))"
   ]
  },
  {
   "cell_type": "code",
   "execution_count": 48,
   "metadata": {
    "ExecuteTime": {
     "end_time": "2020-07-15T08:35:24.614467Z",
     "start_time": "2020-07-15T08:35:24.483817Z"
    }
   },
   "outputs": [
    {
     "data": {
      "text/plain": [
       "[]"
      ]
     },
     "execution_count": 48,
     "metadata": {},
     "output_type": "execute_result"
    },
    {
     "data": {
      "image/png": "[encoded data removed]",
      "text/plain": [
       "<Figure size 432x288 with 1 Axes>"
      ]
     },
     "metadata": {
      "needs_background": "light"
     },
     "output_type": "display_data"
    }
   ],
   "source": [
    "plt.title(\"Losses / epoch\")\n",
    "plt.plot(train_losses, label='Training Losses')\n",
    "plt.plot(val_losses, label='Validation Losses')\n",
    "plt.legend()\n",
    "plt.plot()"
   ]
  },
  {
   "cell_type": "code",
   "execution_count": 49,
   "metadata": {
    "ExecuteTime": {
     "end_time": "2020-07-15T08:35:24.750105Z",
     "start_time": "2020-07-15T08:35:24.615465Z"
    }
   },
   "outputs": [
    {
     "data": {
      "text/plain": [
       "[]"
      ]
     },
     "execution_count": 49,
     "metadata": {},
     "output_type": "execute_result"
    },
    {
     "data": {
      "image/png": "[encoded data removed]",
      "text/plain": [
       "<Figure size 432x288 with 1 Axes>"
      ]
     },
     "metadata": {
      "needs_background": "light"
     },
     "output_type": "display_data"
    }
   ],
   "source": [
    "plt.title(\"Accuracy / epoch\")\n",
    "plt.plot(np.array(train_accs)/train_cnt, label='Training Accuracy')\n",
    "plt.plot(np.array(val_accs)/val_cnt, label='Validation Accuracy')\n",
    "plt.legend()\n",
    "plt.plot()"
   ]
  },
  {
   "cell_type": "code",
   "execution_count": 55,
   "metadata": {
    "ExecuteTime": {
     "end_time": "2020-07-11T03:41:52.506532Z",
     "start_time": "2020-07-11T03:41:52.331979Z"
    }
   },
   "outputs": [
    {
     "name": "stderr",
     "output_type": "stream",
     "text": [
      "C:\\Users\\pha\\anaconda3\\lib\\site-packages\\ipykernel_launcher.py:41: UserWarning: Implicit dimension choice for softmax has been deprecated. Change the call to include dim=X as an argument.\n"
     ]
    },
    {
     "data": {
      "text/plain": [
       "tensor([2, 6, 1, 6, 7, 5, 0, 2, 6, 5, 2, 0, 8, 7, 8, 7, 6, 3, 8, 8, 3, 7, 5, 8,\n",
       "        4, 6, 2, 8, 3, 3, 3, 1, 8, 3, 1, 1, 2, 1, 4, 3, 1, 6, 2, 9, 0, 1],\n",
       "       grad_fn=<NotImplemented>)"
      ]
     },
     "execution_count": 55,
     "metadata": {},
     "output_type": "execute_result"
    }
   ],
   "source": [
    "conv(x).argmax(axis=1)"
   ]
  },
  {
   "cell_type": "code",
   "execution_count": 1,
   "metadata": {
    "ExecuteTime": {
     "end_time": "2020-07-08T06:16:53.297065Z",
     "start_time": "2020-07-08T06:16:53.162321Z"
    }
   },
   "outputs": [
    {
     "ename": "NameError",
     "evalue": "name 'ConvNet' is not defined",
     "output_type": "error",
     "traceback": [
      "\u001b[1;31m---------------------------------------------------------------------------\u001b[0m",
      "\u001b[1;31mNameError\u001b[0m                                 Traceback (most recent call last)",
      "\u001b[1;32m<ipython-input-1-b90400406e19>\u001b[0m in \u001b[0;36m<module>\u001b[1;34m\u001b[0m\n\u001b[0;32m      2\u001b[0m \u001b[0mtrain_accs\u001b[0m\u001b[1;33m,\u001b[0m \u001b[0mval_accs\u001b[0m \u001b[1;33m=\u001b[0m \u001b[1;33m[\u001b[0m\u001b[1;33m]\u001b[0m\u001b[1;33m,\u001b[0m \u001b[1;33m[\u001b[0m\u001b[1;33m]\u001b[0m\u001b[1;33m\u001b[0m\u001b[1;33m\u001b[0m\u001b[0m\n\u001b[0;32m      3\u001b[0m \u001b[1;33m\u001b[0m\u001b[0m\n\u001b[1;32m----> 4\u001b[1;33m \u001b[0mconv\u001b[0m \u001b[1;33m=\u001b[0m \u001b[0mConvNet\u001b[0m\u001b[1;33m(\u001b[0m\u001b[0mctype\u001b[0m\u001b[1;33m=\u001b[0m\u001b[1;34m'binary'\u001b[0m\u001b[1;33m)\u001b[0m\u001b[1;33m\u001b[0m\u001b[1;33m\u001b[0m\u001b[0m\n\u001b[0m\u001b[0;32m      5\u001b[0m \u001b[1;33m\u001b[0m\u001b[0m\n\u001b[0;32m      6\u001b[0m \u001b[0mEPOCHS\u001b[0m \u001b[1;33m=\u001b[0m \u001b[0mrange\u001b[0m\u001b[1;33m(\u001b[0m\u001b[1;36m100\u001b[0m\u001b[1;33m)\u001b[0m\u001b[1;33m\u001b[0m\u001b[1;33m\u001b[0m\u001b[0m\n",
      "\u001b[1;31mNameError\u001b[0m: name 'ConvNet' is not defined"
     ]
    }
   ],
   "source": [
    "train_losses, val_losses = [], []\n",
    "train_accs, val_accs = [], []\n",
    "\n",
    "conv = ConvNet(ctype='binary')\n",
    "\n",
    "EPOCHS = range(100)\n",
    "loss_fn = nn.BCELoss()\n",
    "optimizer = optim.Adam(conv.parameters(), lr=.001)\n",
    "\n",
    "for epoch in EPOCHS:\n",
    "    \n",
    "    train_batch_loss, train_batch_acc, train_cnt = 0, 0, 0\n",
    "    conv.train()\n",
    "    for x, y in train_binary_loader:\n",
    "        \n",
    "        optimizer.zero_grad()\n",
    "        y_pred = conv(x)\n",
    "        \n",
    "        loss = loss_fn(y_pred, y)\n",
    "        loss.backward()\n",
    "        optimizer.step()\n",
    "        \n",
    "        #print(\"Prediction: {}\".format(conv(x).argmax(axis=1)))\n",
    "        #print(\"True Value: {}\".format(y))\n",
    "        tmp_acc, tmp_t, tmp_cf = acc_binary(y_pred, y)\n",
    "        train_batch_acc += tmp_acc\n",
    "        train_cnt += tmp_t\n",
    "        \n",
    "        train_batch_loss += loss.item()\n",
    "    \n",
    "    train_losses.append(train_batch_loss)\n",
    "    train_accs.append(train_batch_acc)\n",
    "    \n",
    "    val_batch_loss, val_batch_acc, val_cnt = 0, 0, 0\n",
    "    conv.eval()\n",
    "    for x, y in test_binary_loader:\n",
    "        y_pred = conv(x)\n",
    "        loss = loss_fn(y_pred, y)\n",
    "        \n",
    "        tmp_acc, tmp_t, tmp_cf = acc_binary(y_pred, y)\n",
    "        val_batch_acc += tmp_acc\n",
    "        val_cnt += tmp_t\n",
    "        \n",
    "        val_batch_loss += loss.item()\n",
    "        \n",
    "    val_losses.append(val_batch_loss)\n",
    "    val_accs.append(val_batch_acc)\n",
    "    \n",
    "    print(\"EPOCH: {}\".format(epoch))\n",
    "    print(\"[LOSS] train: {}, val: {}\".format(round(train_batch_loss,3), round(val_batch_loss, 3)))\n",
    "    print(\"[ACC%] train: {}%, val: {}%\"\n",
    "          .format(round(train_batch_acc/train_cnt * 100, 2), round(val_batch_acc/val_cnt * 100, 2)))\n",
    "    #print(\"Prediction: {}\".format(conv(xx).argmax(axis=1)))\n",
    "    #print(\"True Value: {}\".format(yy))"
   ]
  },
  {
   "cell_type": "code",
   "execution_count": 72,
   "metadata": {
    "ExecuteTime": {
     "end_time": "2020-07-07T05:51:56.321973Z",
     "start_time": "2020-07-07T05:51:56.315216Z"
    }
   },
   "outputs": [
    {
     "data": {
      "text/plain": [
       "tensor(0.1976)"
      ]
     },
     "execution_count": 72,
     "metadata": {},
     "output_type": "execute_result"
    }
   ],
   "source": [
    "pred = torch.tensor([0.1, 0.2, 0.3, 0.9], dtype=torch.float)\n",
    "true = torch.tensor([0, 0, 0, 1], dtype=torch.float)\n",
    "loss_fn(pred, true)"
   ]
  }
 ],
 "metadata": {
  "kernelspec": {
   "display_name": "Python 3",
   "language": "python",
   "name": "python3"
  },
  "language_info": {
   "codemirror_mode": {
    "name": "ipython",
    "version": 3
   },
   "file_extension": ".py",
   "mimetype": "text/x-python",
   "name": "python",
   "nbconvert_exporter": "python",
   "pygments_lexer": "ipython3",
   "version": "3.7.6"
  },
  "toc": {
   "base_numbering": 1,
   "nav_menu": {},
   "number_sections": true,
   "sideBar": true,
   "skip_h1_title": false,
   "title_cell": "Table of Contents",
   "title_sidebar": "Contents",
   "toc_cell": false,
   "toc_position": {},
   "toc_section_display": true,
   "toc_window_display": false
  }
 },
 "nbformat": 4,
 "nbformat_minor": 4
}
