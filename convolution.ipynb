{
 "cells": [
  {
   "cell_type": "markdown",
   "metadata": {},
   "source": [
    "# Importing Lines"
   ]
  },
  {
   "cell_type": "code",
   "execution_count": 1,
   "metadata": {
    "ExecuteTime": {
     "end_time": "2020-07-15T04:54:24.363040Z",
     "start_time": "2020-07-15T04:54:21.915456Z"
    }
   },
   "outputs": [],
   "source": [
    "import pandas as pd\n",
    "import numpy as np\n",
    "\n",
    "import matplotlib.pyplot as plt\n",
    "from tqdm.notebook import tqdm\n",
    "from glob import glob\n",
    "from collections import Counter\n",
    "\n",
    "from sklearn.model_selection import train_test_split\n",
    "\n",
    "import torch\n",
    "import torch.nn.functional as F\n",
    "from torch import nn, optim\n",
    "from torch.utils.data import TensorDataset, DataLoader"
   ]
  },
  {
   "cell_type": "markdown",
   "metadata": {},
   "source": [
    "# Hyperparams"
   ]
  },
  {
   "cell_type": "code",
   "execution_count": 2,
   "metadata": {
    "ExecuteTime": {
     "end_time": "2020-07-15T04:54:24.367001Z",
     "start_time": "2020-07-15T04:54:24.364009Z"
    }
   },
   "outputs": [],
   "source": [
    "SEED = 43"
   ]
  },
  {
   "cell_type": "markdown",
   "metadata": {},
   "source": [
    "# Read-in Data"
   ]
  },
  {
   "cell_type": "code",
   "execution_count": 3,
   "metadata": {
    "ExecuteTime": {
     "end_time": "2020-07-15T04:54:24.390965Z",
     "start_time": "2020-07-15T04:54:24.367998Z"
    }
   },
   "outputs": [],
   "source": [
    "PATH = '../res/npy_img/left/'\n",
    "files = glob(PATH+'*.npy')"
   ]
  },
  {
   "cell_type": "code",
   "execution_count": 4,
   "metadata": {
    "ExecuteTime": {
     "end_time": "2020-07-15T04:54:24.638829Z",
     "start_time": "2020-07-15T04:54:24.391934Z"
    }
   },
   "outputs": [],
   "source": [
    "sample = torch.tensor(np.load(files[0]))\n",
    "x, y, f = np.load(files[0]).shape"
   ]
  },
  {
   "cell_type": "code",
   "execution_count": 5,
   "metadata": {
    "ExecuteTime": {
     "end_time": "2020-07-15T04:54:24.644814Z",
     "start_time": "2020-07-15T04:54:24.639828Z"
    }
   },
   "outputs": [],
   "source": [
    "def data_loader(files):\n",
    "    out = []\n",
    "    x, y, f = np.load(files[0]).shape\n",
    "    for file in tqdm(files):\n",
    "        file = np.load(file)\n",
    "        out.append(file.transpose(2, 0, 1))\n",
    "    out = np.array(out)\n",
    "    return torch.tensor(out, dtype=torch.float)"
   ]
  },
  {
   "cell_type": "code",
   "execution_count": 6,
   "metadata": {
    "ExecuteTime": {
     "end_time": "2020-07-15T04:54:26.102906Z",
     "start_time": "2020-07-15T04:54:26.085951Z"
    }
   },
   "outputs": [
    {
     "data": {
      "text/plain": [
       "(307, 375, 6)"
      ]
     },
     "execution_count": 6,
     "metadata": {},
     "output_type": "execute_result"
    }
   ],
   "source": [
    "np.load(files[0]).shape"
   ]
  },
  {
   "cell_type": "code",
   "execution_count": 7,
   "metadata": {
    "ExecuteTime": {
     "end_time": "2020-07-15T04:55:10.686739Z",
     "start_time": "2020-07-15T04:54:26.822405Z"
    }
   },
   "outputs": [
    {
     "data": {
      "application/vnd.jupyter.widget-view+json": {
       "model_id": "3a0f44f6a8e84b028b245a464f2fe22c",
       "version_major": 2,
       "version_minor": 0
      },
      "text/plain": [
       "HBox(children=(FloatProgress(value=0.0, max=867.0), HTML(value='')))"
      ]
     },
     "metadata": {},
     "output_type": "display_data"
    },
    {
     "name": "stdout",
     "output_type": "stream",
     "text": [
      "\n"
     ]
    }
   ],
   "source": [
    "X = data_loader(files)"
   ]
  },
  {
   "cell_type": "code",
   "execution_count": 8,
   "metadata": {
    "ExecuteTime": {
     "end_time": "2020-07-15T04:55:23.172488Z",
     "start_time": "2020-07-15T04:55:22.887861Z"
    }
   },
   "outputs": [],
   "source": [
    "label = pd.read_csv('../res/age_balanced.csv', index_col=0)\n",
    "y_multi = torch.tensor(label.multiclass.values)\n",
    "y_binary = torch.tensor(label.binary.values)"
   ]
  },
  {
   "cell_type": "code",
   "execution_count": 9,
   "metadata": {
    "ExecuteTime": {
     "end_time": "2020-07-15T04:55:23.673160Z",
     "start_time": "2020-07-15T04:55:23.173501Z"
    }
   },
   "outputs": [],
   "source": [
    "# Binary\n",
    "X_train, X_test, y_binary_train, y_binary_test = train_test_split(X, y_binary,\n",
    "                                                                  test_size=0.2, random_state=SEED)\n",
    "train_binary_ds = TensorDataset(X_train, y_binary_train)\n",
    "test_binary_ds = TensorDataset(X_test, y_binary_test)\n",
    "train_binary_loader = DataLoader(train_binary_ds, batch_size=64, shuffle=True)\n",
    "test_binary_loader = DataLoader(test_binary_ds, batch_size=64, shuffle=True)\n",
    "\n",
    "sample_multi_ds = TensorDataset(X_train[2:4], y_binary_train[2:4])\n",
    "sample_multi_loader = DataLoader(sample_multi_ds)"
   ]
  },
  {
   "cell_type": "code",
   "execution_count": 10,
   "metadata": {
    "ExecuteTime": {
     "end_time": "2020-07-15T04:55:24.119475Z",
     "start_time": "2020-07-15T04:55:23.674157Z"
    }
   },
   "outputs": [],
   "source": [
    "# Binary\n",
    "X_train, X_test, y_multi_train, y_multi_test = train_test_split(X, y_multi,\n",
    "                                                                test_size=0.2, random_state=SEED)\n",
    "train_multi_ds = TensorDataset(X_train, y_multi_train)\n",
    "test_multi_ds = TensorDataset(X_test, y_multi_test)\n",
    "train_multi_loader = DataLoader(train_multi_ds, batch_size=128, shuffle=True)\n",
    "test_multi_loader = DataLoader(test_multi_ds, batch_size=128, shuffle=True)\n",
    "\n",
    "sample_binary_ds = TensorDataset(X_train[2:4], y_binary_train[2:4])\n",
    "sample_binary_loader = DataLoader(sample_binary_ds)"
   ]
  },
  {
   "cell_type": "markdown",
   "metadata": {},
   "source": [
    "# Functions in Need"
   ]
  },
  {
   "cell_type": "code",
   "execution_count": 11,
   "metadata": {
    "ExecuteTime": {
     "end_time": "2020-07-15T04:55:25.241923Z",
     "start_time": "2020-07-15T04:55:25.237733Z"
    }
   },
   "outputs": [],
   "source": [
    "def count(y_pred, y_true):\n",
    "    y_pred_ = y_pred.argmax(axis=1)\n",
    "    \n",
    "    corr = 0\n",
    "    for p, t in zip(y_pred_, y_true):\n",
    "        if p == t:\n",
    "            corr += 1\n",
    "            \n",
    "    return corr"
   ]
  },
  {
   "cell_type": "markdown",
   "metadata": {},
   "source": [
    "# Model Implementation"
   ]
  },
  {
   "cell_type": "markdown",
   "metadata": {},
   "source": [
    "## Model"
   ]
  },
  {
   "cell_type": "code",
   "execution_count": 24,
   "metadata": {
    "ExecuteTime": {
     "end_time": "2020-07-15T05:30:59.808381Z",
     "start_time": "2020-07-15T05:30:59.786296Z"
    }
   },
   "outputs": [],
   "source": [
    "class ConvNet(nn.Module):\n",
    "    def __init__(self, ctype):\n",
    "        super(ConvNet, self).__init__()\n",
    "        \n",
    "        self.ctype = ctype\n",
    "        if self.ctype=='binary':\n",
    "            out_node = 1\n",
    "            self.last_layer = F.sigmoid\n",
    "        elif self.ctype=='multi':\n",
    "            out_node = 10\n",
    "            self.last_layer = F.softmax\n",
    "        else:\n",
    "            print(\"Put either 'binary' or 'multi'\")\n",
    "        \n",
    "        \n",
    "        self.layer1 = nn.Sequential(\n",
    "            nn.Conv2d(6, 10, kernel_size=5, stride=2),\n",
    "            nn.ReLU(),\n",
    "            nn.MaxPool2d(kernel_size=2, stride=2))\n",
    "        self.drop_out = nn.Dropout()\n",
    "        self.layer2 = nn.Sequential(\n",
    "            nn.Conv2d(10, 20, kernel_size=5, stride=2),\n",
    "            nn.ReLU(),\n",
    "            nn.MaxPool2d(kernel_size=2, stride=2))\n",
    "        self.drop_out = nn.Dropout()\n",
    "        self.layer3 = nn.Sequential(\n",
    "            nn.Conv2d(20, 40, kernel_size=5, stride=2),\n",
    "            nn.ReLU(),\n",
    "            nn.MaxPool2d(kernel_size=2, stride=2))\n",
    "        self.drop_out = nn.Dropout()\n",
    "        \n",
    "        self.fc1 = nn.Linear(480, 100)\n",
    "        self.fc2 = nn.Linear(100, out_node)\n",
    "\n",
    "        \n",
    "    def forward(self, x):\n",
    "        out = self.layer1(x)\n",
    "        out = self.drop_out(out)\n",
    "        out = self.layer2(out)\n",
    "        out = self.drop_out(out)\n",
    "        out = self.layer3(out)\n",
    "        out = self.drop_out(out)\n",
    "        out = out.reshape(out.size(0), -1)\n",
    "        out = self.fc1(out)\n",
    "        out = self.drop_out(out)\n",
    "        out = self.fc2(out)\n",
    "        out = self.drop_out(out)\n",
    "        #out = self.fc3(out)\n",
    "        out = self.last_layer(out)\n",
    "        return out"
   ]
  },
  {
   "cell_type": "markdown",
   "metadata": {},
   "source": [
    "## Functions need in Future"
   ]
  },
  {
   "cell_type": "code",
   "execution_count": 13,
   "metadata": {
    "ExecuteTime": {
     "end_time": "2020-07-15T04:55:53.536972Z",
     "start_time": "2020-07-15T04:55:53.532952Z"
    }
   },
   "outputs": [],
   "source": [
    "def acc_multi(pred, true):\n",
    "    result = 0\n",
    "    cnt = 0\n",
    "    for p, t in zip(pred.argmax(axis=1), true):\n",
    "        cnt += 1\n",
    "        if p == t:\n",
    "            result += 1\n",
    "            \n",
    "    return result, cnt"
   ]
  },
  {
   "cell_type": "code",
   "execution_count": 14,
   "metadata": {
    "ExecuteTime": {
     "end_time": "2020-07-15T04:55:53.770437Z",
     "start_time": "2020-07-15T04:55:53.765426Z"
    }
   },
   "outputs": [],
   "source": [
    "def acc_binary(pred, true):\n",
    "    correct, cnt = 0, 0\n",
    "    tp, tn, fp, fn = 0, 0, 0, 0\n",
    "    for p, t in zip(pred, true):\n",
    "        cnt += 1\n",
    "        if (p >= 0.5) & (t == 1):\n",
    "            correct += 1\n",
    "            tp += 1\n",
    "            \n",
    "        elif (p >= 0.5) & (t == 0):\n",
    "            fp += 1\n",
    "            \n",
    "        elif (p < 0.5) & (t == 1):\n",
    "            tn += 1\n",
    "            \n",
    "        elif (p < 0.5) & (t == 0):\n",
    "            correct += 1\n",
    "            fn += 1\n",
    "        \n",
    "        else:\n",
    "            pass\n",
    "        \n",
    "    return correct, cnt, np.array([tp, tn, fp, fn])"
   ]
  },
  {
   "cell_type": "code",
   "execution_count": 15,
   "metadata": {
    "ExecuteTime": {
     "end_time": "2020-07-15T04:55:55.418269Z",
     "start_time": "2020-07-15T04:55:55.414306Z"
    }
   },
   "outputs": [],
   "source": [
    "def to_binary(data):\n",
    "    result = []\n",
    "    for d in data:\n",
    "        if d >= 0.5:\n",
    "            result.append(1)\n",
    "        elif d < 0.5:\n",
    "            result.append(0)\n",
    "    return result"
   ]
  },
  {
   "cell_type": "markdown",
   "metadata": {},
   "source": [
    "## Debugging"
   ]
  },
  {
   "cell_type": "code",
   "execution_count": 16,
   "metadata": {
    "ExecuteTime": {
     "end_time": "2020-07-15T04:55:56.977893Z",
     "start_time": "2020-07-15T04:55:56.869621Z"
    }
   },
   "outputs": [
    {
     "name": "stdout",
     "output_type": "stream",
     "text": [
      "tensor([[0.4911]], grad_fn=<SigmoidBackward>)\n",
      "tensor([[0.4592]], grad_fn=<SigmoidBackward>)\n"
     ]
    },
    {
     "name": "stderr",
     "output_type": "stream",
     "text": [
      "C:\\Users\\pha\\anaconda3\\lib\\site-packages\\torch\\nn\\functional.py:1569: UserWarning: nn.functional.sigmoid is deprecated. Use torch.sigmoid instead.\n",
      "  warnings.warn(\"nn.functional.sigmoid is deprecated. Use torch.sigmoid instead.\")\n"
     ]
    }
   ],
   "source": [
    "conv = ConvNet(ctype='binary')\n",
    "for x, y in sample_binary_loader:\n",
    "    print(conv(x))"
   ]
  },
  {
   "cell_type": "code",
   "execution_count": 25,
   "metadata": {
    "ExecuteTime": {
     "end_time": "2020-07-15T05:31:07.425877Z",
     "start_time": "2020-07-15T05:31:04.374968Z"
    }
   },
   "outputs": [
    {
     "name": "stderr",
     "output_type": "stream",
     "text": [
      "C:\\Users\\pha\\anaconda3\\lib\\site-packages\\ipykernel_launcher.py:49: UserWarning: Implicit dimension choice for softmax has been deprecated. Change the call to include dim=X as an argument.\n"
     ]
    },
    {
     "name": "stdout",
     "output_type": "stream",
     "text": [
      "tensor([2, 2, 3, 1, 4, 3, 3, 2, 3, 8, 3, 2, 3, 2, 9, 3, 4, 7, 0, 1, 3, 3, 0, 1,\n",
      "        6, 2, 3, 1, 5, 6, 9, 4, 2, 3, 0, 0, 7, 4, 2, 4, 1, 2, 0, 9, 0, 1, 4, 3,\n",
      "        3, 9, 9, 2, 3, 9, 0, 2, 2, 3, 8, 6, 3, 3, 2, 3, 3, 3, 9, 3, 2, 3, 3, 3,\n",
      "        4, 4, 9, 3, 3, 2, 2, 3, 1, 3, 3, 5, 3, 0, 1, 3, 3, 3, 3, 4, 3, 4, 3, 5,\n",
      "        4, 4, 2, 0, 2, 2, 1, 3, 3, 3, 9, 4, 3, 0, 3, 1, 9, 3, 3, 8, 9, 0, 0, 9,\n",
      "        3, 4, 8, 3, 4, 3, 2, 2], grad_fn=<NotImplemented>)\n",
      "tensor([1, 1, 8, 5, 7, 2, 9, 1, 4, 3, 0, 1, 3, 9, 1, 2, 4, 1, 1, 3, 4, 9, 6, 3,\n",
      "        1, 3, 3, 4, 1, 7, 8, 2, 0, 3, 3, 3, 9, 3, 2, 7, 9, 3, 7, 1, 2, 3, 3, 2,\n",
      "        2, 9, 1, 8, 3, 9, 1, 0, 9, 9, 3, 7, 8, 0, 3, 6, 9, 4, 1, 3, 7, 3, 2, 3,\n",
      "        4, 9, 4, 9, 1, 0, 9, 2, 2, 7, 3, 1, 2, 3, 3, 3, 4, 3, 3, 9, 3, 2, 4, 1,\n",
      "        2, 2, 0, 2, 4, 4, 8, 3, 3, 7, 4, 4, 6, 3, 2, 3, 3, 4, 9, 7, 2, 9, 8, 4,\n",
      "        7, 3, 3, 2, 2, 3, 7, 4], grad_fn=<NotImplemented>)\n",
      "tensor([3, 0, 3, 0, 3, 2, 4, 6, 9, 1, 3, 8, 5, 2, 1, 3, 4, 3, 2, 9, 2, 3, 2, 2,\n",
      "        3, 6, 1, 7, 1, 9, 0, 3, 9, 4, 2, 2, 4, 3, 6, 3, 5, 3, 2, 2, 0, 0, 5, 2,\n",
      "        3, 9, 2, 9, 1, 9, 6, 3, 2, 9, 4, 0, 2, 3, 4, 0, 3, 8, 2, 3, 3, 9, 0, 3,\n",
      "        2, 4, 3, 0, 9, 2, 1, 8, 7, 7, 0, 1, 9, 4, 4, 3, 2, 3, 2, 9, 0, 7, 4, 3,\n",
      "        3, 3, 6, 2, 1, 9, 9, 4, 3, 3, 2, 3, 4, 9, 1, 9, 6, 7, 9, 2, 9, 0, 3, 2,\n",
      "        4, 6, 7, 4, 3, 3, 6, 2], grad_fn=<NotImplemented>)\n",
      "tensor([3, 3, 4, 3, 3, 3, 7, 9, 3, 9, 1, 2, 4, 5, 2, 3, 7, 8, 3, 2, 2, 0, 9, 6,\n",
      "        4, 3, 3, 3, 2, 9, 7, 8, 2, 0, 2, 8, 3, 2, 1, 4, 3, 1, 3, 4, 0, 0, 3, 3,\n",
      "        7, 2, 2, 2, 5, 4, 3, 3, 9, 3, 6, 3, 3, 3, 7, 3, 7, 3, 9, 2, 6, 3, 1, 3,\n",
      "        3, 7, 2, 2, 1, 3, 9, 3, 4, 2, 4, 7, 2, 2, 6, 3, 4, 3, 8, 1, 0, 3, 8, 1,\n",
      "        3, 1, 3, 1, 4, 3, 4, 4, 9, 6, 0, 3, 3, 3, 0, 4, 7, 3, 9, 5, 1, 3, 9, 9,\n",
      "        1, 9, 0, 3, 3, 4, 2, 6], grad_fn=<NotImplemented>)\n",
      "tensor([8, 9, 9, 1, 9, 0, 9, 0, 3, 6, 3, 2, 1, 0, 1, 2, 3, 9, 4, 8, 3, 2, 7, 8,\n",
      "        3, 0, 0, 9, 3, 0, 8, 3, 9, 7, 3, 2, 3, 9, 3, 3, 3, 2, 3, 3, 0, 8, 2, 2,\n",
      "        9, 0, 6, 0, 6, 6, 3, 2, 7, 3, 6, 3, 3, 0, 2, 9, 9, 2, 9, 5, 0, 9, 3, 4,\n",
      "        7, 5, 9, 4, 2, 3, 1, 0, 6, 9, 2, 9, 6, 3, 0, 4, 0, 1, 3, 8, 3, 3, 7, 4,\n",
      "        3, 5, 2, 0, 7, 3, 1, 3, 6, 0, 4, 2, 3, 6, 4, 2, 3, 4, 7, 2, 0, 2, 3, 3,\n",
      "        2, 9, 9, 5, 9, 2, 3, 1], grad_fn=<NotImplemented>)\n",
      "tensor([8, 1, 1, 7, 8, 1, 9, 3, 7, 3, 1, 8, 9, 2, 9, 2, 8, 3, 4, 2, 8, 6, 4, 4,\n",
      "        3, 3, 1, 3, 3, 9, 4, 2, 2, 3, 5, 2, 3, 0, 3, 2, 2, 3, 9, 0, 3, 0, 3, 2,\n",
      "        8, 3, 9, 6, 1], grad_fn=<NotImplemented>)\n"
     ]
    }
   ],
   "source": [
    "conv = ConvNet(ctype='multi')\n",
    "for x, y in train_multi_loader:\n",
    "    print(conv(x).argmax(axis=1))"
   ]
  },
  {
   "cell_type": "markdown",
   "metadata": {},
   "source": [
    "## Weighting"
   ]
  },
  {
   "cell_type": "code",
   "execution_count": 19,
   "metadata": {
    "ExecuteTime": {
     "end_time": "2020-07-15T05:02:18.250611Z",
     "start_time": "2020-07-15T05:02:18.245612Z"
    }
   },
   "outputs": [],
   "source": [
    "multi_weight = sorted(Counter(label.multiclass).items(), key=(lambda x: x[0]))\n",
    "multi_weight = 1 / np.array([w[1] for w in multi_weight])"
   ]
  },
  {
   "cell_type": "code",
   "execution_count": 20,
   "metadata": {
    "ExecuteTime": {
     "end_time": "2020-07-15T05:02:18.434220Z",
     "start_time": "2020-07-15T05:02:18.429263Z"
    }
   },
   "outputs": [],
   "source": [
    "binary_weight = sorted(Counter(label.binary).items(), key=(lambda x: x[0]))\n",
    "binary_weight = 1 / np.array([w[1] for w in binary_weight])"
   ]
  },
  {
   "cell_type": "markdown",
   "metadata": {},
   "source": [
    "## Training - Multiclass"
   ]
  },
  {
   "cell_type": "code",
   "execution_count": 26,
   "metadata": {
    "ExecuteTime": {
     "end_time": "2020-07-15T05:55:28.623266Z",
     "start_time": "2020-07-15T05:31:08.877647Z"
    }
   },
   "outputs": [
    {
     "name": "stderr",
     "output_type": "stream",
     "text": [
      "C:\\Users\\pha\\anaconda3\\lib\\site-packages\\ipykernel_launcher.py:49: UserWarning: Implicit dimension choice for softmax has been deprecated. Change the call to include dim=X as an argument.\n"
     ]
    },
    {
     "name": "stdout",
     "output_type": "stream",
     "text": [
      "EPOCH: 0\n",
      "[LOSS] train: 13.925, val: 4.618\n",
      "[ACC%] train: 11.69%, val: 9.77%\n",
      "EPOCH: 1\n",
      "[LOSS] train: 14.001, val: 4.613\n",
      "[ACC%] train: 9.96%, val: 9.77%\n",
      "EPOCH: 2\n",
      "[LOSS] train: 13.93, val: 4.601\n",
      "[ACC%] train: 11.98%, val: 9.77%\n",
      "EPOCH: 3\n",
      "[LOSS] train: 13.858, val: 4.598\n",
      "[ACC%] train: 9.96%, val: 12.07%\n",
      "EPOCH: 4\n",
      "[LOSS] train: 13.889, val: 4.603\n",
      "[ACC%] train: 9.38%, val: 12.07%\n",
      "EPOCH: 5\n",
      "[LOSS] train: 13.872, val: 4.604\n",
      "[ACC%] train: 9.81%, val: 8.62%\n",
      "EPOCH: 6\n",
      "[LOSS] train: 13.818, val: 4.608\n",
      "[ACC%] train: 11.4%, val: 8.05%\n",
      "EPOCH: 7\n",
      "[LOSS] train: 13.883, val: 4.614\n",
      "[ACC%] train: 9.96%, val: 10.92%\n",
      "EPOCH: 8\n",
      "[LOSS] train: 13.795, val: 4.606\n",
      "[ACC%] train: 12.41%, val: 9.77%\n",
      "EPOCH: 9\n",
      "[LOSS] train: 13.886, val: 4.607\n",
      "[ACC%] train: 10.25%, val: 9.77%\n",
      "EPOCH: 10\n",
      "[LOSS] train: 13.855, val: 4.607\n",
      "[ACC%] train: 8.95%, val: 9.77%\n",
      "EPOCH: 11\n",
      "[LOSS] train: 13.864, val: 4.606\n",
      "[ACC%] train: 10.97%, val: 9.77%\n",
      "EPOCH: 12\n",
      "[LOSS] train: 13.848, val: 4.606\n",
      "[ACC%] train: 10.25%, val: 9.77%\n",
      "EPOCH: 13\n",
      "[LOSS] train: 13.817, val: 4.605\n",
      "[ACC%] train: 10.25%, val: 9.77%\n",
      "EPOCH: 14\n",
      "[LOSS] train: 13.827, val: 4.605\n",
      "[ACC%] train: 9.67%, val: 10.92%\n",
      "EPOCH: 15\n",
      "[LOSS] train: 13.826, val: 4.605\n",
      "[ACC%] train: 10.82%, val: 10.34%\n",
      "EPOCH: 16\n",
      "[LOSS] train: 13.811, val: 4.606\n",
      "[ACC%] train: 10.39%, val: 9.2%\n",
      "EPOCH: 17\n",
      "[LOSS] train: 13.823, val: 4.606\n",
      "[ACC%] train: 10.97%, val: 11.49%\n",
      "EPOCH: 18\n",
      "[LOSS] train: 13.824, val: 4.605\n",
      "[ACC%] train: 10.39%, val: 8.05%\n",
      "EPOCH: 19\n",
      "[LOSS] train: 13.818, val: 4.605\n",
      "[ACC%] train: 10.97%, val: 8.62%\n",
      "EPOCH: 20\n",
      "[LOSS] train: 13.826, val: 4.605\n",
      "[ACC%] train: 10.1%, val: 8.05%\n",
      "EPOCH: 21\n",
      "[LOSS] train: 13.82, val: 4.606\n",
      "[ACC%] train: 8.8%, val: 8.62%\n",
      "EPOCH: 22\n",
      "[LOSS] train: 13.814, val: 4.606\n",
      "[ACC%] train: 12.27%, val: 8.05%\n",
      "EPOCH: 23\n",
      "[LOSS] train: 13.818, val: 4.607\n",
      "[ACC%] train: 10.68%, val: 8.05%\n",
      "EPOCH: 24\n",
      "[LOSS] train: 13.819, val: 4.607\n",
      "[ACC%] train: 11.83%, val: 8.05%\n",
      "EPOCH: 25\n",
      "[LOSS] train: 13.832, val: 4.606\n",
      "[ACC%] train: 8.66%, val: 8.05%\n",
      "EPOCH: 26\n",
      "[LOSS] train: 13.824, val: 4.607\n",
      "[ACC%] train: 8.95%, val: 8.05%\n",
      "EPOCH: 27\n",
      "[LOSS] train: 13.821, val: 4.606\n",
      "[ACC%] train: 9.96%, val: 8.05%\n",
      "EPOCH: 28\n",
      "[LOSS] train: 13.811, val: 4.606\n",
      "[ACC%] train: 10.1%, val: 8.62%\n",
      "EPOCH: 29\n",
      "[LOSS] train: 13.809, val: 4.606\n",
      "[ACC%] train: 12.99%, val: 8.05%\n",
      "EPOCH: 30\n",
      "[LOSS] train: 13.81, val: 4.606\n",
      "[ACC%] train: 12.84%, val: 10.92%\n",
      "EPOCH: 31\n",
      "[LOSS] train: 13.814, val: 4.605\n",
      "[ACC%] train: 11.83%, val: 9.2%\n",
      "EPOCH: 32\n",
      "[LOSS] train: 13.803, val: 4.606\n",
      "[ACC%] train: 12.12%, val: 9.2%\n",
      "EPOCH: 33\n",
      "[LOSS] train: 13.815, val: 4.607\n",
      "[ACC%] train: 11.11%, val: 9.2%\n",
      "EPOCH: 34\n",
      "[LOSS] train: 13.81, val: 4.607\n",
      "[ACC%] train: 10.39%, val: 9.2%\n",
      "EPOCH: 35\n",
      "[LOSS] train: 13.83, val: 4.606\n",
      "[ACC%] train: 10.82%, val: 9.2%\n",
      "EPOCH: 36\n",
      "[LOSS] train: 13.822, val: 4.605\n",
      "[ACC%] train: 10.53%, val: 9.2%\n",
      "EPOCH: 37\n",
      "[LOSS] train: 13.814, val: 4.606\n",
      "[ACC%] train: 10.68%, val: 9.2%\n",
      "EPOCH: 38\n",
      "[LOSS] train: 13.812, val: 4.606\n",
      "[ACC%] train: 10.39%, val: 9.2%\n",
      "EPOCH: 39\n",
      "[LOSS] train: 13.816, val: 4.606\n",
      "[ACC%] train: 11.4%, val: 9.2%\n",
      "EPOCH: 40\n",
      "[LOSS] train: 13.814, val: 4.606\n",
      "[ACC%] train: 11.11%, val: 12.07%\n",
      "EPOCH: 41\n",
      "[LOSS] train: 13.81, val: 4.606\n",
      "[ACC%] train: 11.11%, val: 12.07%\n",
      "EPOCH: 42\n",
      "[LOSS] train: 13.815, val: 4.606\n",
      "[ACC%] train: 10.68%, val: 9.2%\n",
      "EPOCH: 43\n",
      "[LOSS] train: 13.815, val: 4.608\n",
      "[ACC%] train: 9.81%, val: 9.2%\n",
      "EPOCH: 44\n",
      "[LOSS] train: 13.82, val: 4.606\n",
      "[ACC%] train: 11.26%, val: 9.2%\n",
      "EPOCH: 45\n",
      "[LOSS] train: 13.82, val: 4.607\n",
      "[ACC%] train: 10.97%, val: 9.2%\n",
      "EPOCH: 46\n",
      "[LOSS] train: 13.806, val: 4.607\n",
      "[ACC%] train: 14.29%, val: 9.2%\n",
      "EPOCH: 47\n",
      "[LOSS] train: 13.816, val: 4.607\n",
      "[ACC%] train: 10.25%, val: 9.2%\n",
      "EPOCH: 48\n",
      "[LOSS] train: 13.798, val: 4.607\n",
      "[ACC%] train: 12.55%, val: 9.2%\n",
      "EPOCH: 49\n",
      "[LOSS] train: 13.827, val: 4.607\n",
      "[ACC%] train: 10.25%, val: 9.2%\n",
      "EPOCH: 50\n",
      "[LOSS] train: 13.833, val: 4.606\n",
      "[ACC%] train: 10.53%, val: 9.2%\n",
      "EPOCH: 51\n",
      "[LOSS] train: 13.825, val: 4.606\n",
      "[ACC%] train: 11.69%, val: 9.2%\n",
      "EPOCH: 52\n",
      "[LOSS] train: 13.817, val: 4.607\n",
      "[ACC%] train: 11.26%, val: 9.2%\n",
      "EPOCH: 53\n",
      "[LOSS] train: 13.809, val: 4.606\n",
      "[ACC%] train: 10.1%, val: 9.2%\n",
      "EPOCH: 54\n",
      "[LOSS] train: 13.823, val: 4.606\n",
      "[ACC%] train: 10.25%, val: 9.77%\n",
      "EPOCH: 55\n",
      "[LOSS] train: 13.833, val: 4.607\n",
      "[ACC%] train: 8.66%, val: 9.2%\n",
      "EPOCH: 56\n",
      "[LOSS] train: 13.819, val: 4.606\n",
      "[ACC%] train: 9.52%, val: 9.2%\n",
      "EPOCH: 57\n",
      "[LOSS] train: 13.821, val: 4.606\n",
      "[ACC%] train: 12.27%, val: 12.07%\n",
      "EPOCH: 58\n",
      "[LOSS] train: 13.812, val: 4.605\n",
      "[ACC%] train: 11.98%, val: 10.34%\n",
      "EPOCH: 59\n",
      "[LOSS] train: 13.813, val: 4.606\n",
      "[ACC%] train: 12.41%, val: 10.92%\n",
      "EPOCH: 60\n",
      "[LOSS] train: 13.814, val: 4.606\n",
      "[ACC%] train: 10.97%, val: 9.2%\n",
      "EPOCH: 61\n",
      "[LOSS] train: 13.813, val: 4.607\n",
      "[ACC%] train: 11.98%, val: 9.2%\n",
      "EPOCH: 62\n",
      "[LOSS] train: 13.822, val: 4.606\n",
      "[ACC%] train: 11.11%, val: 9.77%\n",
      "EPOCH: 63\n",
      "[LOSS] train: 13.814, val: 4.606\n",
      "[ACC%] train: 10.25%, val: 9.77%\n",
      "EPOCH: 64\n",
      "[LOSS] train: 13.815, val: 4.607\n",
      "[ACC%] train: 10.97%, val: 8.62%\n",
      "EPOCH: 65\n",
      "[LOSS] train: 13.815, val: 4.606\n",
      "[ACC%] train: 9.67%, val: 9.2%\n",
      "EPOCH: 66\n",
      "[LOSS] train: 13.818, val: 4.607\n",
      "[ACC%] train: 10.39%, val: 9.2%\n",
      "EPOCH: 67\n",
      "[LOSS] train: 13.81, val: 4.607\n",
      "[ACC%] train: 11.26%, val: 8.62%\n",
      "EPOCH: 68\n",
      "[LOSS] train: 13.819, val: 4.607\n",
      "[ACC%] train: 10.82%, val: 8.62%\n",
      "EPOCH: 69\n",
      "[LOSS] train: 13.821, val: 4.606\n",
      "[ACC%] train: 10.97%, val: 8.62%\n",
      "EPOCH: 70\n",
      "[LOSS] train: 13.827, val: 4.606\n",
      "[ACC%] train: 8.8%, val: 8.62%\n",
      "EPOCH: 71\n",
      "[LOSS] train: 13.817, val: 4.607\n",
      "[ACC%] train: 8.08%, val: 8.62%\n",
      "EPOCH: 72\n",
      "[LOSS] train: 13.814, val: 4.607\n",
      "[ACC%] train: 11.83%, val: 8.62%\n",
      "EPOCH: 73\n",
      "[LOSS] train: 13.818, val: 4.607\n",
      "[ACC%] train: 10.53%, val: 8.05%\n",
      "EPOCH: 74\n",
      "[LOSS] train: 13.815, val: 4.606\n",
      "[ACC%] train: 9.96%, val: 9.77%\n",
      "EPOCH: 75\n",
      "[LOSS] train: 13.82, val: 4.606\n",
      "[ACC%] train: 10.97%, val: 9.2%\n",
      "EPOCH: 76\n",
      "[LOSS] train: 13.816, val: 4.606\n",
      "[ACC%] train: 10.97%, val: 9.2%\n",
      "EPOCH: 77\n",
      "[LOSS] train: 13.817, val: 4.607\n",
      "[ACC%] train: 11.11%, val: 9.2%\n",
      "EPOCH: 78\n",
      "[LOSS] train: 13.822, val: 4.606\n",
      "[ACC%] train: 8.51%, val: 9.2%\n",
      "EPOCH: 79\n",
      "[LOSS] train: 13.816, val: 4.606\n",
      "[ACC%] train: 10.97%, val: 9.2%\n",
      "EPOCH: 80\n",
      "[LOSS] train: 13.82, val: 4.606\n",
      "[ACC%] train: 9.24%, val: 9.2%\n",
      "EPOCH: 81\n",
      "[LOSS] train: 13.817, val: 4.607\n",
      "[ACC%] train: 9.67%, val: 9.2%\n",
      "EPOCH: 82\n",
      "[LOSS] train: 13.812, val: 4.606\n",
      "[ACC%] train: 13.28%, val: 9.2%\n",
      "EPOCH: 83\n",
      "[LOSS] train: 13.817, val: 4.607\n",
      "[ACC%] train: 10.39%, val: 9.2%\n",
      "EPOCH: 84\n",
      "[LOSS] train: 13.82, val: 4.606\n",
      "[ACC%] train: 10.68%, val: 9.2%\n",
      "EPOCH: 85\n",
      "[LOSS] train: 13.819, val: 4.606\n",
      "[ACC%] train: 11.69%, val: 9.2%\n",
      "EPOCH: 86\n",
      "[LOSS] train: 13.814, val: 4.607\n",
      "[ACC%] train: 10.82%, val: 9.2%\n",
      "EPOCH: 87\n",
      "[LOSS] train: 13.814, val: 4.606\n",
      "[ACC%] train: 13.13%, val: 9.2%\n",
      "EPOCH: 88\n",
      "[LOSS] train: 13.813, val: 4.606\n",
      "[ACC%] train: 11.54%, val: 9.2%\n",
      "EPOCH: 89\n",
      "[LOSS] train: 13.81, val: 4.607\n",
      "[ACC%] train: 12.7%, val: 9.2%\n",
      "EPOCH: 90\n",
      "[LOSS] train: 13.816, val: 4.607\n",
      "[ACC%] train: 9.81%, val: 9.2%\n",
      "EPOCH: 91\n",
      "[LOSS] train: 13.816, val: 4.607\n",
      "[ACC%] train: 11.83%, val: 9.2%\n",
      "EPOCH: 92\n",
      "[LOSS] train: 13.818, val: 4.607\n",
      "[ACC%] train: 10.25%, val: 9.2%\n",
      "EPOCH: 93\n",
      "[LOSS] train: 13.815, val: 4.608\n",
      "[ACC%] train: 10.39%, val: 9.2%\n",
      "EPOCH: 94\n",
      "[LOSS] train: 13.814, val: 4.607\n",
      "[ACC%] train: 12.84%, val: 9.2%\n",
      "EPOCH: 95\n",
      "[LOSS] train: 13.811, val: 4.607\n",
      "[ACC%] train: 11.4%, val: 9.2%\n",
      "EPOCH: 96\n",
      "[LOSS] train: 13.812, val: 4.607\n",
      "[ACC%] train: 12.7%, val: 7.47%\n",
      "EPOCH: 97\n",
      "[LOSS] train: 13.816, val: 4.607\n",
      "[ACC%] train: 9.81%, val: 8.62%\n",
      "EPOCH: 98\n",
      "[LOSS] train: 13.812, val: 4.608\n",
      "[ACC%] train: 12.27%, val: 9.2%\n",
      "EPOCH: 99\n",
      "[LOSS] train: 13.815, val: 4.607\n",
      "[ACC%] train: 12.27%, val: 9.2%\n",
      "EPOCH: 100\n",
      "[LOSS] train: 13.815, val: 4.607\n",
      "[ACC%] train: 10.1%, val: 9.2%\n",
      "EPOCH: 101\n",
      "[LOSS] train: 13.814, val: 4.607\n",
      "[ACC%] train: 10.39%, val: 9.2%\n",
      "EPOCH: 102\n",
      "[LOSS] train: 13.817, val: 4.606\n",
      "[ACC%] train: 10.97%, val: 9.2%\n",
      "EPOCH: 103\n",
      "[LOSS] train: 13.819, val: 4.607\n",
      "[ACC%] train: 11.11%, val: 9.2%\n",
      "EPOCH: 104\n",
      "[LOSS] train: 13.809, val: 4.607\n",
      "[ACC%] train: 14.43%, val: 9.2%\n",
      "EPOCH: 105\n",
      "[LOSS] train: 13.813, val: 4.606\n",
      "[ACC%] train: 11.4%, val: 9.2%\n",
      "EPOCH: 106\n",
      "[LOSS] train: 13.827, val: 4.607\n",
      "[ACC%] train: 9.81%, val: 9.2%\n",
      "EPOCH: 107\n",
      "[LOSS] train: 13.818, val: 4.607\n",
      "[ACC%] train: 10.1%, val: 9.2%\n",
      "EPOCH: 108\n",
      "[LOSS] train: 13.819, val: 4.607\n",
      "[ACC%] train: 8.66%, val: 9.2%\n",
      "EPOCH: 109\n",
      "[LOSS] train: 13.813, val: 4.607\n",
      "[ACC%] train: 11.83%, val: 9.2%\n"
     ]
    },
    {
     "name": "stdout",
     "output_type": "stream",
     "text": [
      "EPOCH: 110\n",
      "[LOSS] train: 13.813, val: 4.606\n",
      "[ACC%] train: 10.97%, val: 9.2%\n",
      "EPOCH: 111\n",
      "[LOSS] train: 13.81, val: 4.607\n",
      "[ACC%] train: 12.7%, val: 9.2%\n",
      "EPOCH: 112\n",
      "[LOSS] train: 13.815, val: 4.607\n",
      "[ACC%] train: 11.98%, val: 9.2%\n",
      "EPOCH: 113\n",
      "[LOSS] train: 13.815, val: 4.608\n",
      "[ACC%] train: 10.82%, val: 9.2%\n",
      "EPOCH: 114\n",
      "[LOSS] train: 13.821, val: 4.607\n",
      "[ACC%] train: 13.13%, val: 9.2%\n",
      "EPOCH: 115\n",
      "[LOSS] train: 13.82, val: 4.606\n",
      "[ACC%] train: 9.67%, val: 9.2%\n",
      "EPOCH: 116\n",
      "[LOSS] train: 13.822, val: 4.607\n",
      "[ACC%] train: 10.53%, val: 9.2%\n",
      "EPOCH: 117\n",
      "[LOSS] train: 13.814, val: 4.607\n",
      "[ACC%] train: 11.83%, val: 9.2%\n",
      "EPOCH: 118\n",
      "[LOSS] train: 13.813, val: 4.607\n",
      "[ACC%] train: 12.41%, val: 9.2%\n",
      "EPOCH: 119\n",
      "[LOSS] train: 13.818, val: 4.607\n",
      "[ACC%] train: 11.69%, val: 9.2%\n",
      "EPOCH: 120\n",
      "[LOSS] train: 13.818, val: 4.608\n",
      "[ACC%] train: 10.68%, val: 9.2%\n",
      "EPOCH: 121\n",
      "[LOSS] train: 13.812, val: 4.606\n",
      "[ACC%] train: 11.4%, val: 9.2%\n",
      "EPOCH: 122\n",
      "[LOSS] train: 13.808, val: 4.607\n",
      "[ACC%] train: 12.27%, val: 9.2%\n",
      "EPOCH: 123\n",
      "[LOSS] train: 13.81, val: 4.609\n",
      "[ACC%] train: 12.55%, val: 9.2%\n",
      "EPOCH: 124\n",
      "[LOSS] train: 13.822, val: 4.609\n",
      "[ACC%] train: 10.1%, val: 9.2%\n",
      "EPOCH: 125\n",
      "[LOSS] train: 13.818, val: 4.608\n",
      "[ACC%] train: 11.26%, val: 9.2%\n",
      "EPOCH: 126\n",
      "[LOSS] train: 13.812, val: 4.608\n",
      "[ACC%] train: 10.53%, val: 8.62%\n",
      "EPOCH: 127\n",
      "[LOSS] train: 13.822, val: 4.607\n",
      "[ACC%] train: 9.38%, val: 8.05%\n",
      "EPOCH: 128\n",
      "[LOSS] train: 13.816, val: 4.607\n",
      "[ACC%] train: 10.25%, val: 8.05%\n",
      "EPOCH: 129\n",
      "[LOSS] train: 13.825, val: 4.607\n",
      "[ACC%] train: 10.1%, val: 8.05%\n",
      "EPOCH: 130\n",
      "[LOSS] train: 13.817, val: 4.606\n",
      "[ACC%] train: 9.09%, val: 8.05%\n",
      "EPOCH: 131\n",
      "[LOSS] train: 13.815, val: 4.607\n",
      "[ACC%] train: 9.52%, val: 9.2%\n",
      "EPOCH: 132\n",
      "[LOSS] train: 13.813, val: 4.607\n",
      "[ACC%] train: 11.11%, val: 9.2%\n",
      "EPOCH: 133\n",
      "[LOSS] train: 13.814, val: 4.607\n",
      "[ACC%] train: 11.26%, val: 9.2%\n",
      "EPOCH: 134\n",
      "[LOSS] train: 13.818, val: 4.607\n",
      "[ACC%] train: 9.96%, val: 8.62%\n",
      "EPOCH: 135\n",
      "[LOSS] train: 13.821, val: 4.607\n",
      "[ACC%] train: 12.27%, val: 8.05%\n",
      "EPOCH: 136\n",
      "[LOSS] train: 13.811, val: 4.606\n",
      "[ACC%] train: 11.54%, val: 8.05%\n",
      "EPOCH: 137\n",
      "[LOSS] train: 13.809, val: 4.606\n",
      "[ACC%] train: 12.55%, val: 8.05%\n",
      "EPOCH: 138\n",
      "[LOSS] train: 13.813, val: 4.607\n",
      "[ACC%] train: 11.98%, val: 8.05%\n",
      "EPOCH: 139\n",
      "[LOSS] train: 13.812, val: 4.607\n",
      "[ACC%] train: 11.83%, val: 9.2%\n",
      "EPOCH: 140\n",
      "[LOSS] train: 13.818, val: 4.607\n",
      "[ACC%] train: 10.97%, val: 9.2%\n",
      "EPOCH: 141\n",
      "[LOSS] train: 13.805, val: 4.607\n",
      "[ACC%] train: 11.83%, val: 8.62%\n",
      "EPOCH: 142\n",
      "[LOSS] train: 13.817, val: 4.607\n",
      "[ACC%] train: 12.12%, val: 5.17%\n",
      "EPOCH: 143\n",
      "[LOSS] train: 13.814, val: 4.607\n",
      "[ACC%] train: 13.71%, val: 8.05%\n",
      "EPOCH: 144\n",
      "[LOSS] train: 13.806, val: 4.607\n",
      "[ACC%] train: 11.83%, val: 8.62%\n",
      "EPOCH: 145\n",
      "[LOSS] train: 13.809, val: 4.607\n",
      "[ACC%] train: 11.69%, val: 8.62%\n",
      "EPOCH: 146\n",
      "[LOSS] train: 13.809, val: 4.608\n",
      "[ACC%] train: 10.53%, val: 8.05%\n",
      "EPOCH: 147\n",
      "[LOSS] train: 13.812, val: 4.609\n",
      "[ACC%] train: 13.56%, val: 11.49%\n",
      "EPOCH: 148\n",
      "[LOSS] train: 13.814, val: 4.608\n",
      "[ACC%] train: 12.84%, val: 8.62%\n",
      "EPOCH: 149\n",
      "[LOSS] train: 13.824, val: 4.608\n",
      "[ACC%] train: 10.53%, val: 8.05%\n",
      "EPOCH: 150\n",
      "[LOSS] train: 13.818, val: 4.607\n",
      "[ACC%] train: 12.12%, val: 8.62%\n",
      "EPOCH: 151\n",
      "[LOSS] train: 13.81, val: 4.607\n",
      "[ACC%] train: 12.27%, val: 9.2%\n",
      "EPOCH: 152\n",
      "[LOSS] train: 13.811, val: 4.608\n",
      "[ACC%] train: 12.7%, val: 9.2%\n",
      "EPOCH: 153\n",
      "[LOSS] train: 13.806, val: 4.608\n",
      "[ACC%] train: 12.84%, val: 9.2%\n",
      "EPOCH: 154\n",
      "[LOSS] train: 13.813, val: 4.607\n",
      "[ACC%] train: 10.82%, val: 9.2%\n",
      "EPOCH: 155\n",
      "[LOSS] train: 13.819, val: 4.608\n",
      "[ACC%] train: 10.97%, val: 9.2%\n",
      "EPOCH: 156\n",
      "[LOSS] train: 13.814, val: 4.607\n",
      "[ACC%] train: 10.82%, val: 9.2%\n",
      "EPOCH: 157\n",
      "[LOSS] train: 13.808, val: 4.607\n",
      "[ACC%] train: 13.28%, val: 9.2%\n",
      "EPOCH: 158\n",
      "[LOSS] train: 13.814, val: 4.608\n",
      "[ACC%] train: 10.1%, val: 9.2%\n",
      "EPOCH: 159\n",
      "[LOSS] train: 13.818, val: 4.607\n",
      "[ACC%] train: 9.24%, val: 9.77%\n",
      "EPOCH: 160\n",
      "[LOSS] train: 13.825, val: 4.607\n",
      "[ACC%] train: 10.25%, val: 10.92%\n",
      "EPOCH: 161\n",
      "[LOSS] train: 13.805, val: 4.606\n",
      "[ACC%] train: 11.4%, val: 8.62%\n",
      "EPOCH: 162\n",
      "[LOSS] train: 13.813, val: 4.607\n",
      "[ACC%] train: 11.11%, val: 9.77%\n",
      "EPOCH: 163\n",
      "[LOSS] train: 13.812, val: 4.608\n",
      "[ACC%] train: 11.4%, val: 9.77%\n",
      "EPOCH: 164\n",
      "[LOSS] train: 13.816, val: 4.608\n",
      "[ACC%] train: 9.96%, val: 8.05%\n",
      "EPOCH: 165\n",
      "[LOSS] train: 13.822, val: 4.607\n",
      "[ACC%] train: 11.98%, val: 7.47%\n",
      "EPOCH: 166\n",
      "[LOSS] train: 13.802, val: 4.607\n",
      "[ACC%] train: 13.56%, val: 9.2%\n",
      "EPOCH: 167\n",
      "[LOSS] train: 13.807, val: 4.606\n",
      "[ACC%] train: 12.55%, val: 8.05%\n",
      "EPOCH: 168\n",
      "[LOSS] train: 13.809, val: 4.611\n",
      "[ACC%] train: 11.83%, val: 8.05%\n",
      "EPOCH: 169\n",
      "[LOSS] train: 13.809, val: 4.609\n",
      "[ACC%] train: 9.96%, val: 9.2%\n",
      "EPOCH: 170\n",
      "[LOSS] train: 13.815, val: 4.609\n",
      "[ACC%] train: 11.26%, val: 8.62%\n",
      "EPOCH: 171\n",
      "[LOSS] train: 13.823, val: 4.606\n",
      "[ACC%] train: 9.52%, val: 9.2%\n",
      "EPOCH: 172\n",
      "[LOSS] train: 13.81, val: 4.606\n",
      "[ACC%] train: 12.12%, val: 9.2%\n",
      "EPOCH: 173\n",
      "[LOSS] train: 13.815, val: 4.608\n",
      "[ACC%] train: 10.82%, val: 9.2%\n",
      "EPOCH: 174\n",
      "[LOSS] train: 13.816, val: 4.608\n",
      "[ACC%] train: 10.39%, val: 9.2%\n",
      "EPOCH: 175\n",
      "[LOSS] train: 13.803, val: 4.608\n",
      "[ACC%] train: 10.82%, val: 9.2%\n",
      "EPOCH: 176\n",
      "[LOSS] train: 13.817, val: 4.608\n",
      "[ACC%] train: 10.39%, val: 9.2%\n",
      "EPOCH: 177\n",
      "[LOSS] train: 13.806, val: 4.608\n",
      "[ACC%] train: 11.98%, val: 9.2%\n",
      "EPOCH: 178\n",
      "[LOSS] train: 13.81, val: 4.608\n",
      "[ACC%] train: 10.68%, val: 9.2%\n",
      "EPOCH: 179\n",
      "[LOSS] train: 13.813, val: 4.608\n",
      "[ACC%] train: 11.54%, val: 9.2%\n",
      "EPOCH: 180\n",
      "[LOSS] train: 13.81, val: 4.607\n",
      "[ACC%] train: 10.53%, val: 9.2%\n",
      "EPOCH: 181\n",
      "[LOSS] train: 13.818, val: 4.608\n",
      "[ACC%] train: 11.54%, val: 9.2%\n",
      "EPOCH: 182\n",
      "[LOSS] train: 13.822, val: 4.608\n",
      "[ACC%] train: 11.11%, val: 9.2%\n",
      "EPOCH: 183\n",
      "[LOSS] train: 13.808, val: 4.607\n",
      "[ACC%] train: 10.25%, val: 9.2%\n",
      "EPOCH: 184\n",
      "[LOSS] train: 13.824, val: 4.607\n",
      "[ACC%] train: 10.68%, val: 8.62%\n",
      "EPOCH: 185\n",
      "[LOSS] train: 13.817, val: 4.607\n",
      "[ACC%] train: 10.82%, val: 9.2%\n",
      "EPOCH: 186\n",
      "[LOSS] train: 13.817, val: 4.607\n",
      "[ACC%] train: 10.25%, val: 8.62%\n",
      "EPOCH: 187\n",
      "[LOSS] train: 13.813, val: 4.608\n",
      "[ACC%] train: 12.12%, val: 8.05%\n",
      "EPOCH: 188\n",
      "[LOSS] train: 13.812, val: 4.606\n",
      "[ACC%] train: 12.7%, val: 9.2%\n",
      "EPOCH: 189\n",
      "[LOSS] train: 13.815, val: 4.606\n",
      "[ACC%] train: 11.11%, val: 8.05%\n",
      "EPOCH: 190\n",
      "[LOSS] train: 13.819, val: 4.607\n",
      "[ACC%] train: 11.54%, val: 8.05%\n",
      "EPOCH: 191\n",
      "[LOSS] train: 13.813, val: 4.607\n",
      "[ACC%] train: 8.95%, val: 8.05%\n",
      "EPOCH: 192\n",
      "[LOSS] train: 13.81, val: 4.608\n",
      "[ACC%] train: 11.26%, val: 8.05%\n",
      "EPOCH: 193\n",
      "[LOSS] train: 13.82, val: 4.608\n",
      "[ACC%] train: 9.67%, val: 8.05%\n",
      "EPOCH: 194\n",
      "[LOSS] train: 13.81, val: 4.607\n",
      "[ACC%] train: 13.42%, val: 8.05%\n",
      "EPOCH: 195\n",
      "[LOSS] train: 13.817, val: 4.607\n",
      "[ACC%] train: 10.97%, val: 8.05%\n",
      "EPOCH: 196\n",
      "[LOSS] train: 13.818, val: 4.608\n",
      "[ACC%] train: 10.82%, val: 8.05%\n",
      "EPOCH: 197\n",
      "[LOSS] train: 13.819, val: 4.608\n",
      "[ACC%] train: 9.81%, val: 8.05%\n",
      "EPOCH: 198\n",
      "[LOSS] train: 13.814, val: 4.608\n",
      "[ACC%] train: 12.99%, val: 8.05%\n",
      "EPOCH: 199\n",
      "[LOSS] train: 13.81, val: 4.608\n",
      "[ACC%] train: 11.83%, val: 8.05%\n"
     ]
    }
   ],
   "source": [
    "train_losses, val_losses = [], []\n",
    "train_accs, val_accs = [], []\n",
    "\n",
    "conv = ConvNet(ctype='multi')\n",
    "\n",
    "EPOCHS = range(200)\n",
    "loss_fn = nn.CrossEntropyLoss(weight=torch.FloatTensor(multi_weight))\n",
    "optimizer = optim.Adam(conv.parameters(), lr=.001)\n",
    "\n",
    "for epoch in EPOCHS:\n",
    "    \n",
    "    train_batch_loss, train_batch_acc, train_cnt = 0, 0, 0\n",
    "    conv.train()\n",
    "    for x, y in train_multi_loader:\n",
    "        \n",
    "        optimizer.zero_grad()\n",
    "        y_pred = conv(x)\n",
    "        \n",
    "        loss = loss_fn(y_pred, y)\n",
    "        loss.backward()\n",
    "        optimizer.step()\n",
    "        \n",
    "        #print(\"Prediction: {}\".format(conv(x).argmax(axis=1)))\n",
    "        #print(\"True Value: {}\".format(y))\n",
    "        tmp_acc, tmp_t = acc_multi(y_pred, y)\n",
    "        train_batch_acc += tmp_acc\n",
    "        train_cnt += tmp_t\n",
    "        \n",
    "        train_batch_loss += loss.item()\n",
    "    \n",
    "    train_losses.append(train_batch_loss)\n",
    "    train_accs.append(train_batch_acc)\n",
    "    \n",
    "    val_batch_loss, val_batch_acc, val_cnt = 0, 0, 0\n",
    "    conv.eval()\n",
    "    for x, y in test_multi_loader:\n",
    "        y_pred = conv(x)\n",
    "        loss = loss_fn(y_pred, y)\n",
    "        \n",
    "        tmp_acc, tmp_t = acc_multi(y_pred, y)\n",
    "        val_batch_acc += tmp_acc\n",
    "        val_cnt += tmp_t\n",
    "        \n",
    "        val_batch_loss += loss.item()\n",
    "        #print(\"Prediction: {}\".format(y_pred.argmax(axis=1)))\n",
    "        #print(\"Prediction: {}\".format(y_pred[:3]))\n",
    "        \n",
    "    val_losses.append(val_batch_loss)\n",
    "    val_accs.append(val_batch_acc)\n",
    "    \n",
    "    print(\"EPOCH: {}\".format(epoch))\n",
    "    print(\"[LOSS] train: {}, val: {}\".format(round(train_batch_loss,3), round(val_batch_loss, 3)))\n",
    "    print(\"[ACC%] train: {}%, val: {}%\"\n",
    "          .format(round(train_batch_acc/train_cnt * 100, 2), round(val_batch_acc/val_cnt * 100, 2)))\n",
    "    #print(\"Prediction: {}\".format(conv(xx).argmax(axis=1)))\n",
    "    #print(\"True Value: {}\".format(yy))"
   ]
  },
  {
   "cell_type": "code",
   "execution_count": 22,
   "metadata": {
    "ExecuteTime": {
     "end_time": "2020-07-15T05:07:44.387656Z",
     "start_time": "2020-07-15T05:07:44.233589Z"
    }
   },
   "outputs": [
    {
     "name": "stdout",
     "output_type": "stream",
     "text": [
      "tensor([8, 7, 6, 9, 2, 9, 9, 1, 0, 4, 0, 7, 6, 3, 3, 8, 8, 8, 9, 1, 7, 0, 7, 0,\n",
      "        3, 1, 3, 1, 0, 5, 5, 9, 6, 2, 8, 1, 0, 2, 7, 8, 7, 8, 4, 3, 1, 4, 0, 3,\n",
      "        5, 6, 8, 4, 7, 8, 1, 7, 5, 0, 9, 6, 2, 1, 1, 2, 3, 7, 4, 9, 1, 7, 4, 3,\n",
      "        3, 7, 6, 6, 7, 9, 9, 8, 6, 1, 4, 5, 5, 6, 2, 1, 1, 6, 4, 9, 1, 3, 9, 5,\n",
      "        5, 9, 7, 1, 3, 7, 2, 8, 8, 0, 8, 6, 0, 2, 2, 2, 5, 5, 9, 5, 4, 2, 0, 4,\n",
      "        1, 8, 6, 0, 1, 0, 0, 4])\n",
      "tensor([0, 2, 5, 2, 7, 0, 8, 0, 7, 0, 2, 3, 8, 4, 3, 5, 2, 6, 3, 6, 0, 9, 8, 8,\n",
      "        2, 4, 6, 5, 8, 8, 8, 2, 4, 3, 4, 8, 8, 5, 0, 3, 0, 1, 7, 3, 6, 7])\n"
     ]
    }
   ],
   "source": [
    "for x, y in test_multi_loader:\n",
    "    print(y)"
   ]
  },
  {
   "cell_type": "code",
   "execution_count": 27,
   "metadata": {
    "ExecuteTime": {
     "end_time": "2020-07-15T05:57:14.065249Z",
     "start_time": "2020-07-15T05:57:13.798946Z"
    }
   },
   "outputs": [
    {
     "data": {
      "text/plain": [
       "[]"
      ]
     },
     "execution_count": 27,
     "metadata": {},
     "output_type": "execute_result"
    },
    {
     "data": {
      "image/png": "[encoded data removed]",
      "text/plain": [
       "<Figure size 432x288 with 1 Axes>"
      ]
     },
     "metadata": {
      "needs_background": "light"
     },
     "output_type": "display_data"
    }
   ],
   "source": [
    "plt.title(\"Losses / epoch\")\n",
    "plt.plot(train_losses, label='Training Losses')\n",
    "plt.plot(val_losses, label='Validation Losses')\n",
    "plt.legend()\n",
    "plt.plot()"
   ]
  },
  {
   "cell_type": "code",
   "execution_count": 28,
   "metadata": {
    "ExecuteTime": {
     "end_time": "2020-07-15T05:57:14.200886Z",
     "start_time": "2020-07-15T05:57:14.066246Z"
    }
   },
   "outputs": [
    {
     "data": {
      "text/plain": [
       "[]"
      ]
     },
     "execution_count": 28,
     "metadata": {},
     "output_type": "execute_result"
    },
    {
     "data": {
      "image/png": "[encoded data removed]",
      "text/plain": [
       "<Figure size 432x288 with 1 Axes>"
      ]
     },
     "metadata": {
      "needs_background": "light"
     },
     "output_type": "display_data"
    }
   ],
   "source": [
    "plt.title(\"Accuracy / epoch\")\n",
    "plt.plot(np.array(train_accs)/train_cnt, label='Training Accuracy')\n",
    "plt.plot(np.array(val_accs)/val_cnt, label='Validation Accuracy')\n",
    "plt.legend()\n",
    "plt.plot()"
   ]
  },
  {
   "cell_type": "code",
   "execution_count": 55,
   "metadata": {
    "ExecuteTime": {
     "end_time": "2020-07-11T03:41:52.506532Z",
     "start_time": "2020-07-11T03:41:52.331979Z"
    }
   },
   "outputs": [
    {
     "name": "stderr",
     "output_type": "stream",
     "text": [
      "C:\\Users\\pha\\anaconda3\\lib\\site-packages\\ipykernel_launcher.py:41: UserWarning: Implicit dimension choice for softmax has been deprecated. Change the call to include dim=X as an argument.\n"
     ]
    },
    {
     "data": {
      "text/plain": [
       "tensor([2, 6, 1, 6, 7, 5, 0, 2, 6, 5, 2, 0, 8, 7, 8, 7, 6, 3, 8, 8, 3, 7, 5, 8,\n",
       "        4, 6, 2, 8, 3, 3, 3, 1, 8, 3, 1, 1, 2, 1, 4, 3, 1, 6, 2, 9, 0, 1],\n",
       "       grad_fn=<NotImplemented>)"
      ]
     },
     "execution_count": 55,
     "metadata": {},
     "output_type": "execute_result"
    }
   ],
   "source": [
    "conv(x).argmax(axis=1)"
   ]
  },
  {
   "cell_type": "code",
   "execution_count": 1,
   "metadata": {
    "ExecuteTime": {
     "end_time": "2020-07-08T06:16:53.297065Z",
     "start_time": "2020-07-08T06:16:53.162321Z"
    }
   },
   "outputs": [
    {
     "ename": "NameError",
     "evalue": "name 'ConvNet' is not defined",
     "output_type": "error",
     "traceback": [
      "\u001b[1;31m---------------------------------------------------------------------------\u001b[0m",
      "\u001b[1;31mNameError\u001b[0m                                 Traceback (most recent call last)",
      "\u001b[1;32m<ipython-input-1-b90400406e19>\u001b[0m in \u001b[0;36m<module>\u001b[1;34m\u001b[0m\n\u001b[0;32m      2\u001b[0m \u001b[0mtrain_accs\u001b[0m\u001b[1;33m,\u001b[0m \u001b[0mval_accs\u001b[0m \u001b[1;33m=\u001b[0m \u001b[1;33m[\u001b[0m\u001b[1;33m]\u001b[0m\u001b[1;33m,\u001b[0m \u001b[1;33m[\u001b[0m\u001b[1;33m]\u001b[0m\u001b[1;33m\u001b[0m\u001b[1;33m\u001b[0m\u001b[0m\n\u001b[0;32m      3\u001b[0m \u001b[1;33m\u001b[0m\u001b[0m\n\u001b[1;32m----> 4\u001b[1;33m \u001b[0mconv\u001b[0m \u001b[1;33m=\u001b[0m \u001b[0mConvNet\u001b[0m\u001b[1;33m(\u001b[0m\u001b[0mctype\u001b[0m\u001b[1;33m=\u001b[0m\u001b[1;34m'binary'\u001b[0m\u001b[1;33m)\u001b[0m\u001b[1;33m\u001b[0m\u001b[1;33m\u001b[0m\u001b[0m\n\u001b[0m\u001b[0;32m      5\u001b[0m \u001b[1;33m\u001b[0m\u001b[0m\n\u001b[0;32m      6\u001b[0m \u001b[0mEPOCHS\u001b[0m \u001b[1;33m=\u001b[0m \u001b[0mrange\u001b[0m\u001b[1;33m(\u001b[0m\u001b[1;36m100\u001b[0m\u001b[1;33m)\u001b[0m\u001b[1;33m\u001b[0m\u001b[1;33m\u001b[0m\u001b[0m\n",
      "\u001b[1;31mNameError\u001b[0m: name 'ConvNet' is not defined"
     ]
    }
   ],
   "source": [
    "train_losses, val_losses = [], []\n",
    "train_accs, val_accs = [], []\n",
    "\n",
    "conv = ConvNet(ctype='binary')\n",
    "\n",
    "EPOCHS = range(100)\n",
    "loss_fn = nn.BCELoss()\n",
    "optimizer = optim.Adam(conv.parameters(), lr=.001)\n",
    "\n",
    "for epoch in EPOCHS:\n",
    "    \n",
    "    train_batch_loss, train_batch_acc, train_cnt = 0, 0, 0\n",
    "    conv.train()\n",
    "    for x, y in train_binary_loader:\n",
    "        \n",
    "        optimizer.zero_grad()\n",
    "        y_pred = conv(x)\n",
    "        \n",
    "        loss = loss_fn(y_pred, y)\n",
    "        loss.backward()\n",
    "        optimizer.step()\n",
    "        \n",
    "        #print(\"Prediction: {}\".format(conv(x).argmax(axis=1)))\n",
    "        #print(\"True Value: {}\".format(y))\n",
    "        tmp_acc, tmp_t, tmp_cf = acc_binary(y_pred, y)\n",
    "        train_batch_acc += tmp_acc\n",
    "        train_cnt += tmp_t\n",
    "        \n",
    "        train_batch_loss += loss.item()\n",
    "    \n",
    "    train_losses.append(train_batch_loss)\n",
    "    train_accs.append(train_batch_acc)\n",
    "    \n",
    "    val_batch_loss, val_batch_acc, val_cnt = 0, 0, 0\n",
    "    conv.eval()\n",
    "    for x, y in test_binary_loader:\n",
    "        y_pred = conv(x)\n",
    "        loss = loss_fn(y_pred, y)\n",
    "        \n",
    "        tmp_acc, tmp_t, tmp_cf = acc_binary(y_pred, y)\n",
    "        val_batch_acc += tmp_acc\n",
    "        val_cnt += tmp_t\n",
    "        \n",
    "        val_batch_loss += loss.item()\n",
    "        \n",
    "    val_losses.append(val_batch_loss)\n",
    "    val_accs.append(val_batch_acc)\n",
    "    \n",
    "    print(\"EPOCH: {}\".format(epoch))\n",
    "    print(\"[LOSS] train: {}, val: {}\".format(round(train_batch_loss,3), round(val_batch_loss, 3)))\n",
    "    print(\"[ACC%] train: {}%, val: {}%\"\n",
    "          .format(round(train_batch_acc/train_cnt * 100, 2), round(val_batch_acc/val_cnt * 100, 2)))\n",
    "    #print(\"Prediction: {}\".format(conv(xx).argmax(axis=1)))\n",
    "    #print(\"True Value: {}\".format(yy))"
   ]
  },
  {
   "cell_type": "code",
   "execution_count": 72,
   "metadata": {
    "ExecuteTime": {
     "end_time": "2020-07-07T05:51:56.321973Z",
     "start_time": "2020-07-07T05:51:56.315216Z"
    }
   },
   "outputs": [
    {
     "data": {
      "text/plain": [
       "tensor(0.1976)"
      ]
     },
     "execution_count": 72,
     "metadata": {},
     "output_type": "execute_result"
    }
   ],
   "source": [
    "pred = torch.tensor([0.1, 0.2, 0.3, 0.9], dtype=torch.float)\n",
    "true = torch.tensor([0, 0, 0, 1], dtype=torch.float)\n",
    "loss_fn(pred, true)"
   ]
  }
 ],
 "metadata": {
  "kernelspec": {
   "display_name": "Python 3",
   "language": "python",
   "name": "python3"
  },
  "language_info": {
   "codemirror_mode": {
    "name": "ipython",
    "version": 3
   },
   "file_extension": ".py",
   "mimetype": "text/x-python",
   "name": "python",
   "nbconvert_exporter": "python",
   "pygments_lexer": "ipython3",
   "version": "3.7.6"
  },
  "toc": {
   "base_numbering": 1,
   "nav_menu": {},
   "number_sections": true,
   "sideBar": true,
   "skip_h1_title": false,
   "title_cell": "Table of Contents",
   "title_sidebar": "Contents",
   "toc_cell": false,
   "toc_position": {},
   "toc_section_display": true,
   "toc_window_display": false
  }
 },
 "nbformat": 4,
 "nbformat_minor": 4
}
